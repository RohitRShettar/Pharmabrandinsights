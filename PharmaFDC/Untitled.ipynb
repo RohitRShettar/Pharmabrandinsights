{
 "cells": [
  {
   "cell_type": "code",
   "execution_count": null,
   "id": "6cb52e33-6022-42c2-96a8-d10f4a636e2d",
   "metadata": {},
   "outputs": [
    {
     "name": "stdout",
     "output_type": "stream",
     "text": [
      "Requirement already satisfied: refractio[snowflake] in /opt/conda/lib/python3.9/site-packages (2.1.5.6)\n",
      "Requirement already satisfied: pandas==2.0.0 in /opt/conda/lib/python3.9/site-packages (from refractio[snowflake]) (2.0.0)\n",
      "Requirement already satisfied: snowflake-connector-python[pandas]==3.6.0; extra == \"snowflake\" in /opt/conda/lib/python3.9/site-packages (from refractio[snowflake]) (3.6.0)\n",
      "Requirement already satisfied: pytz>=2020.1 in /opt/conda/lib/python3.9/site-packages (from pandas==2.0.0->refractio[snowflake]) (2024.1)\n",
      "Requirement already satisfied: python-dateutil>=2.8.2 in /opt/conda/lib/python3.9/site-packages (from pandas==2.0.0->refractio[snowflake]) (2.9.0.post0)\n",
      "Requirement already satisfied: numpy>=1.20.3; python_version < \"3.10\" in /opt/conda/lib/python3.9/site-packages (from pandas==2.0.0->refractio[snowflake]) (1.26.4)\n",
      "Requirement already satisfied: tzdata>=2022.1 in /opt/conda/lib/python3.9/site-packages (from pandas==2.0.0->refractio[snowflake]) (2024.1)\n",
      "Requirement already satisfied: sortedcontainers>=2.4.0 in /opt/conda/lib/python3.9/site-packages (from snowflake-connector-python[pandas]==3.6.0; extra == \"snowflake\"->refractio[snowflake]) (2.4.0)\n",
      "Requirement already satisfied: asn1crypto<2.0.0,>0.24.0 in /opt/conda/lib/python3.9/site-packages (from snowflake-connector-python[pandas]==3.6.0; extra == \"snowflake\"->refractio[snowflake]) (1.5.1)\n",
      "Requirement already satisfied: urllib3<2.0.0,>=1.21.1; python_version < \"3.10\" in /opt/conda/lib/python3.9/site-packages (from snowflake-connector-python[pandas]==3.6.0; extra == \"snowflake\"->refractio[snowflake]) (1.26.20)\n",
      "Requirement already satisfied: filelock<4,>=3.5 in /opt/conda/lib/python3.9/site-packages (from snowflake-connector-python[pandas]==3.6.0; extra == \"snowflake\"->refractio[snowflake]) (3.15.4)\n",
      "Requirement already satisfied: pyOpenSSL<24.0.0,>=16.2.0 in /opt/conda/lib/python3.9/site-packages (from snowflake-connector-python[pandas]==3.6.0; extra == \"snowflake\"->refractio[snowflake]) (23.3.0)\n",
      "Requirement already satisfied: charset-normalizer<4,>=2 in /opt/conda/lib/python3.9/site-packages (from snowflake-connector-python[pandas]==3.6.0; extra == \"snowflake\"->refractio[snowflake]) (3.3.2)\n",
      "Requirement already satisfied: pyjwt<3.0.0 in /opt/conda/lib/python3.9/site-packages (from snowflake-connector-python[pandas]==3.6.0; extra == \"snowflake\"->refractio[snowflake]) (2.9.0)\n",
      "Requirement already satisfied: tomlkit in /opt/conda/lib/python3.9/site-packages (from snowflake-connector-python[pandas]==3.6.0; extra == \"snowflake\"->refractio[snowflake]) (0.13.2)\n",
      "Requirement already satisfied: packaging in /opt/conda/lib/python3.9/site-packages (from snowflake-connector-python[pandas]==3.6.0; extra == \"snowflake\"->refractio[snowflake]) (24.1)\n",
      "Requirement already satisfied: idna<4,>=2.5 in /opt/conda/lib/python3.9/site-packages (from snowflake-connector-python[pandas]==3.6.0; extra == \"snowflake\"->refractio[snowflake]) (3.7)\n",
      "Requirement already satisfied: requests<3.0.0 in /opt/conda/lib/python3.9/site-packages (from snowflake-connector-python[pandas]==3.6.0; extra == \"snowflake\"->refractio[snowflake]) (2.32.3)\n",
      "Requirement already satisfied: platformdirs<4.0.0,>=2.6.0 in /opt/conda/lib/python3.9/site-packages (from snowflake-connector-python[pandas]==3.6.0; extra == \"snowflake\"->refractio[snowflake]) (3.11.0)\n",
      "Requirement already satisfied: cryptography<42.0.0,>=3.1.0 in /opt/conda/lib/python3.9/site-packages (from snowflake-connector-python[pandas]==3.6.0; extra == \"snowflake\"->refractio[snowflake]) (41.0.7)\n",
      "Requirement already satisfied: typing-extensions<5,>=4.3 in /opt/conda/lib/python3.9/site-packages (from snowflake-connector-python[pandas]==3.6.0; extra == \"snowflake\"->refractio[snowflake]) (4.12.2)\n",
      "Requirement already satisfied: certifi>=2017.4.17 in /opt/conda/lib/python3.9/site-packages (from snowflake-connector-python[pandas]==3.6.0; extra == \"snowflake\"->refractio[snowflake]) (2024.7.4)\n",
      "Requirement already satisfied: cffi<2.0.0,>=1.9 in /opt/conda/lib/python3.9/site-packages (from snowflake-connector-python[pandas]==3.6.0; extra == \"snowflake\"->refractio[snowflake]) (1.16.0)\n",
      "Requirement already satisfied: pyarrow; extra == \"pandas\" in /opt/conda/lib/python3.9/site-packages (from snowflake-connector-python[pandas]==3.6.0; extra == \"snowflake\"->refractio[snowflake]) (17.0.0)\n",
      "Requirement already satisfied: six>=1.5 in /opt/conda/lib/python3.9/site-packages (from python-dateutil>=2.8.2->pandas==2.0.0->refractio[snowflake]) (1.16.0)\n",
      "Requirement already satisfied: pycparser in /opt/conda/lib/python3.9/site-packages (from cffi<2.0.0,>=1.9->snowflake-connector-python[pandas]==3.6.0; extra == \"snowflake\"->refractio[snowflake]) (2.21)\n",
      "\u001b[33mWARNING: You are using pip version 19.3.1; however, version 24.2 is available.\n",
      "You should consider upgrading via the 'pip install --upgrade pip' command.\u001b[0m\n",
      "Requirement already satisfied: scikit-learn in /opt/conda/lib/python3.9/site-packages (1.5.1)\n",
      "Requirement already satisfied: numpy>=1.19.5 in /opt/conda/lib/python3.9/site-packages (from scikit-learn) (1.26.4)\n",
      "Requirement already satisfied: threadpoolctl>=3.1.0 in /opt/conda/lib/python3.9/site-packages (from scikit-learn) (3.5.0)\n",
      "Requirement already satisfied: joblib>=1.2.0 in /opt/conda/lib/python3.9/site-packages (from scikit-learn) (1.4.2)\n",
      "Requirement already satisfied: scipy>=1.6.0 in /opt/conda/lib/python3.9/site-packages (from scikit-learn) (1.13.1)\n",
      "\u001b[33mWARNING: You are using pip version 19.3.1; however, version 24.2 is available.\n",
      "You should consider upgrading via the 'pip install --upgrade pip' command.\u001b[0m\n",
      "Requirement already satisfied: matplotlib in /opt/conda/lib/python3.9/site-packages (3.9.2)\n",
      "Requirement already satisfied: numpy>=1.23 in /opt/conda/lib/python3.9/site-packages (from matplotlib) (1.26.4)\n",
      "Requirement already satisfied: kiwisolver>=1.3.1 in /opt/conda/lib/python3.9/site-packages (from matplotlib) (1.4.5)\n",
      "Requirement already satisfied: pillow>=8 in /opt/conda/lib/python3.9/site-packages (from matplotlib) (10.4.0)\n",
      "Requirement already satisfied: importlib-resources>=3.2.0; python_version < \"3.10\" in /opt/conda/lib/python3.9/site-packages (from matplotlib) (6.4.4)\n",
      "Requirement already satisfied: cycler>=0.10 in /opt/conda/lib/python3.9/site-packages (from matplotlib) (0.12.1)\n",
      "Requirement already satisfied: fonttools>=4.22.0 in /opt/conda/lib/python3.9/site-packages (from matplotlib) (4.53.1)\n",
      "Requirement already satisfied: contourpy>=1.0.1 in /opt/conda/lib/python3.9/site-packages (from matplotlib) (1.3.0)\n",
      "Requirement already satisfied: packaging>=20.0 in /opt/conda/lib/python3.9/site-packages (from matplotlib) (24.1)\n",
      "Requirement already satisfied: pyparsing>=2.3.1 in /opt/conda/lib/python3.9/site-packages (from matplotlib) (3.1.4)\n",
      "Requirement already satisfied: python-dateutil>=2.7 in /opt/conda/lib/python3.9/site-packages (from matplotlib) (2.9.0.post0)\n",
      "Requirement already satisfied: zipp>=3.1.0; python_version < \"3.10\" in /opt/conda/lib/python3.9/site-packages (from importlib-resources>=3.2.0; python_version < \"3.10\"->matplotlib) (3.19.2)\n",
      "Requirement already satisfied: six>=1.5 in /opt/conda/lib/python3.9/site-packages (from python-dateutil>=2.7->matplotlib) (1.16.0)\n",
      "\u001b[33mWARNING: You are using pip version 19.3.1; however, version 24.2 is available.\n",
      "You should consider upgrading via the 'pip install --upgrade pip' command.\u001b[0m\n",
      "Requirement already satisfied: statsmodels in /opt/conda/lib/python3.9/site-packages (0.14.2)\n",
      "Requirement already satisfied: scipy!=1.9.2,>=1.8 in /opt/conda/lib/python3.9/site-packages (from statsmodels) (1.13.1)\n",
      "Requirement already satisfied: numpy>=1.22.3 in /opt/conda/lib/python3.9/site-packages (from statsmodels) (1.26.4)\n",
      "Requirement already satisfied: packaging>=21.3 in /opt/conda/lib/python3.9/site-packages (from statsmodels) (24.1)\n",
      "Requirement already satisfied: pandas!=2.1.0,>=1.4 in /opt/conda/lib/python3.9/site-packages (from statsmodels) (2.0.0)\n",
      "Requirement already satisfied: patsy>=0.5.6 in /opt/conda/lib/python3.9/site-packages (from statsmodels) (0.5.6)\n",
      "Requirement already satisfied: tzdata>=2022.1 in /opt/conda/lib/python3.9/site-packages (from pandas!=2.1.0,>=1.4->statsmodels) (2024.1)\n",
      "Requirement already satisfied: python-dateutil>=2.8.2 in /opt/conda/lib/python3.9/site-packages (from pandas!=2.1.0,>=1.4->statsmodels) (2.9.0.post0)\n",
      "Requirement already satisfied: pytz>=2020.1 in /opt/conda/lib/python3.9/site-packages (from pandas!=2.1.0,>=1.4->statsmodels) (2024.1)\n",
      "Requirement already satisfied: six in /opt/conda/lib/python3.9/site-packages (from patsy>=0.5.6->statsmodels) (1.16.0)\n",
      "\u001b[33mWARNING: You are using pip version 19.3.1; however, version 24.2 is available.\n",
      "You should consider upgrading via the 'pip install --upgrade pip' command.\u001b[0m\n",
      "Requirement already satisfied: pmdarima in /opt/conda/lib/python3.9/site-packages (2.0.4)\n",
      "Requirement already satisfied: numpy>=1.21.2 in /opt/conda/lib/python3.9/site-packages (from pmdarima) (1.26.4)\n",
      "Requirement already satisfied: statsmodels>=0.13.2 in /opt/conda/lib/python3.9/site-packages (from pmdarima) (0.14.2)\n",
      "Requirement already satisfied: scikit-learn>=0.22 in /opt/conda/lib/python3.9/site-packages (from pmdarima) (1.5.1)\n",
      "Requirement already satisfied: Cython!=0.29.18,!=0.29.31,>=0.29 in /opt/conda/lib/python3.9/site-packages (from pmdarima) (3.0.11)\n",
      "Requirement already satisfied: packaging>=17.1 in /opt/conda/lib/python3.9/site-packages (from pmdarima) (24.1)\n",
      "Requirement already satisfied: setuptools!=50.0.0,>=38.6.0 in /opt/conda/lib/python3.9/site-packages (from pmdarima) (65.6.3)\n",
      "Requirement already satisfied: pandas>=0.19 in /opt/conda/lib/python3.9/site-packages (from pmdarima) (2.0.0)\n",
      "Requirement already satisfied: urllib3 in /opt/conda/lib/python3.9/site-packages (from pmdarima) (1.26.20)\n",
      "Requirement already satisfied: joblib>=0.11 in /opt/conda/lib/python3.9/site-packages (from pmdarima) (1.4.2)\n",
      "Requirement already satisfied: scipy>=1.3.2 in /opt/conda/lib/python3.9/site-packages (from pmdarima) (1.13.1)\n",
      "Requirement already satisfied: patsy>=0.5.6 in /opt/conda/lib/python3.9/site-packages (from statsmodels>=0.13.2->pmdarima) (0.5.6)\n",
      "Requirement already satisfied: threadpoolctl>=3.1.0 in /opt/conda/lib/python3.9/site-packages (from scikit-learn>=0.22->pmdarima) (3.5.0)\n",
      "Requirement already satisfied: pytz>=2020.1 in /opt/conda/lib/python3.9/site-packages (from pandas>=0.19->pmdarima) (2024.1)\n",
      "Requirement already satisfied: tzdata>=2022.1 in /opt/conda/lib/python3.9/site-packages (from pandas>=0.19->pmdarima) (2024.1)\n",
      "Requirement already satisfied: python-dateutil>=2.8.2 in /opt/conda/lib/python3.9/site-packages (from pandas>=0.19->pmdarima) (2.9.0.post0)\n",
      "Requirement already satisfied: six in /opt/conda/lib/python3.9/site-packages (from patsy>=0.5.6->statsmodels>=0.13.2->pmdarima) (1.16.0)\n"
     ]
    }
   ],
   "source": [
    "!pip install refractio[snowflake]\n",
    "!pip install scikit-learn \n",
    "!pip install matplotlib\n",
    "!pip install statsmodels\n",
    "!pip install pmdarima\n",
    "!pip install fosforml"
   ]
  },
  {
   "cell_type": "code",
   "execution_count": null,
   "id": "83eca5b1-b957-4b0c-aa01-2746d02763a6",
   "metadata": {},
   "outputs": [],
   "source": [
    "## Step 1. Connecting to the Snowflake Connection specified in Insight Designer Module"
   ]
  },
  {
   "cell_type": "code",
   "execution_count": 13,
   "id": "48088391-0227-4e67-ad7f-ce432eaa3793",
   "metadata": {},
   "outputs": [],
   "source": [
    "from refractio import snowflake"
   ]
  },
  {
   "cell_type": "code",
   "execution_count": 14,
   "id": "04255376-4592-476a-a7e4-650346da0bbd",
   "metadata": {},
   "outputs": [
    {
     "name": "stdout",
     "output_type": "stream",
     "text": [
      "Exception occurred in getting snowflake connection: HTTPConnectionPool(host='fdc-project-manager', port=80): Max retries exceeded with url: /project-manager/connections/api/ConnectionManager/v1/connection/sourceName?profile=default (Caused by NewConnectionError('<urllib3.connection.HTTPConnection object at 0x7f4893652fd0>: Failed to establish a new connection: [Errno -2] Name or service not known'))\n"
     ]
    }
   ],
   "source": [
    "snowflake.get_connection()"
   ]
  },
  {
   "cell_type": "code",
   "execution_count": 9,
   "id": "bcfe6b5c-adb1-4a55-9880-bb6ef9342f3b",
   "metadata": {},
   "outputs": [],
   "source": [
    "### (i) Getting dataset from Insight Designer"
   ]
  },
  {
   "cell_type": "code",
   "execution_count": 12,
   "id": "c684a23b-d904-4ef6-ac64-fa5529d8c2ad",
   "metadata": {},
   "outputs": [
    {
     "name": "stdout",
     "output_type": "stream",
     "text": [
      "Exception occurred in reading data_frame from snowflake connection: HTTPConnectionPool(host='fdc-project-manager', port=80): Max retries exceeded with url: /project-manager/connections/api/External/v2/external/getConnConfig/Pharma_brand_analysis/refract_user/3ed9c58f-21bc-45b0-bd1f-62e2bd52c1d6 (Caused by NewConnectionError('<urllib3.connection.HTTPConnection object at 0x7f4872a10220>: Failed to establish a new connection: [Errno -2] Name or service not known'))\n"
     ]
    }
   ],
   "source": [
    "import pandas as pd\n",
    "dataset = snowflake.get_dataframe(\"Pharma_brand_analysis\")\n",
    "#dataset = pd.read_csv(\"original_dataset.csv\")"
   ]
  },
  {
   "cell_type": "code",
   "execution_count": null,
   "id": "d103fb20-91b6-4495-a539-381776ed9c8b",
   "metadata": {},
   "outputs": [],
   "source": []
  }
 ],
 "metadata": {
  "kernelspec": {
   "display_name": "Python 3 (ipykernel)",
   "language": "python",
   "name": "python3"
  },
  "language_info": {
   "codemirror_mode": {
    "name": "ipython",
    "version": 3
   },
   "file_extension": ".py",
   "mimetype": "text/x-python",
   "name": "python",
   "nbconvert_exporter": "python",
   "pygments_lexer": "ipython3",
   "version": "3.9.19"
  }
 },
 "nbformat": 4,
 "nbformat_minor": 5
}
