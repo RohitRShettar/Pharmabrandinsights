{
 "cells": [
  {
   "cell_type": "code",
   "execution_count": 1,
   "id": "a411e62e",
   "metadata": {},
   "outputs": [
    {
     "name": "stdout",
     "output_type": "stream",
     "text": [
      "Collecting refractio[snowflake]\n",
      "  Downloading https://files.pythonhosted.org/packages/54/b8/27d3b04e9d7655747eeef89357d8a50bbd3d0d26d1c7b703572478391cf5/refractio-2.1.5.6-py3-none-any.whl\n",
      "Collecting pandas==2.0.0\n",
      "\u001b[?25l  Downloading https://files.pythonhosted.org/packages/23/c0/4b71d4a9fbfe2fbe3e379bebc22bc935e4d09b7802899a5ac1b90bf090bb/pandas-2.0.0-cp38-cp38-manylinux_2_17_x86_64.manylinux2014_x86_64.whl (12.3MB)\n",
      "\u001b[K     |████████████████████████████████| 12.3MB 4.3MB/s eta 0:00:01\n",
      "\u001b[?25hCollecting snowflake-connector-python[pandas]==3.6.0; extra == \"snowflake\"\n",
      "\u001b[?25l  Downloading https://files.pythonhosted.org/packages/45/c9/b15f5a5652fa52dbb9a15c86a8d117d52a3d4630626f6a1bbf7e2675583f/snowflake_connector_python-3.6.0-cp38-cp38-manylinux_2_17_x86_64.manylinux2014_x86_64.whl (2.5MB)\n",
      "\u001b[K     |████████████████████████████████| 2.5MB 13.0MB/s eta 0:00:01\n",
      "\u001b[?25hCollecting python-dateutil>=2.8.2\n",
      "\u001b[?25l  Downloading https://files.pythonhosted.org/packages/ec/57/56b9bcc3c9c6a792fcbaf139543cee77261f3651ca9da0c93f5c1221264b/python_dateutil-2.9.0.post0-py2.py3-none-any.whl (229kB)\n",
      "\u001b[K     |████████████████████████████████| 235kB 80.2MB/s eta 0:00:01\n",
      "\u001b[?25hCollecting tzdata>=2022.1\n",
      "\u001b[?25l  Downloading https://files.pythonhosted.org/packages/65/58/f9c9e6be752e9fcb8b6a0ee9fb87e6e7a1f6bcab2cdc73f02bb7ba91ada0/tzdata-2024.1-py2.py3-none-any.whl (345kB)\n",
      "\u001b[K     |████████████████████████████████| 348kB 80.8MB/s eta 0:00:01\n",
      "\u001b[?25hCollecting numpy>=1.20.3; python_version < \"3.10\"\n",
      "\u001b[?25l  Downloading https://files.pythonhosted.org/packages/98/5d/5738903efe0ecb73e51eb44feafba32bdba2081263d40c5043568ff60faf/numpy-1.24.4-cp38-cp38-manylinux_2_17_x86_64.manylinux2014_x86_64.whl (17.3MB)\n",
      "\u001b[K     |████████████████████████████████| 17.3MB 72.9MB/s eta 0:00:01\n",
      "\u001b[?25hCollecting pytz>=2020.1\n",
      "\u001b[?25l  Downloading https://files.pythonhosted.org/packages/9c/3d/a121f284241f08268b21359bd425f7d4825cffc5ac5cd0e1b3d82ffd2b10/pytz-2024.1-py2.py3-none-any.whl (505kB)\n",
      "\u001b[K     |████████████████████████████████| 512kB 74.9MB/s eta 0:00:01\n",
      "\u001b[?25hCollecting asn1crypto<2.0.0,>0.24.0\n",
      "\u001b[?25l  Downloading https://files.pythonhosted.org/packages/c9/7f/09065fd9e27da0eda08b4d6897f1c13535066174cc023af248fc2a8d5e5a/asn1crypto-1.5.1-py2.py3-none-any.whl (105kB)\n",
      "\u001b[K     |████████████████████████████████| 112kB 75.7MB/s eta 0:00:01\n",
      "\u001b[?25hCollecting cffi<2.0.0,>=1.9\n",
      "\u001b[?25l  Downloading https://files.pythonhosted.org/packages/f1/c9/326611aa83e16b13b6db4dbb73b5455c668159a003c4c2f0c3bcb2ddabaf/cffi-1.16.0-cp38-cp38-manylinux_2_17_x86_64.manylinux2014_x86_64.whl (444kB)\n",
      "\u001b[K     |████████████████████████████████| 450kB 75.5MB/s eta 0:00:01\n",
      "\u001b[?25hCollecting requests<3.0.0\n",
      "\u001b[?25l  Downloading https://files.pythonhosted.org/packages/f9/9b/335f9764261e915ed497fcdeb11df5dfd6f7bf257d4a6a2a686d80da4d54/requests-2.32.3-py3-none-any.whl (64kB)\n",
      "\u001b[K     |████████████████████████████████| 71kB 19.4MB/s eta 0:00:01\n",
      "\u001b[?25hCollecting certifi>=2017.4.17\n",
      "\u001b[?25l  Downloading https://files.pythonhosted.org/packages/1c/d5/c84e1a17bf61d4df64ca866a1c9a913874b4e9bdc131ec689a0ad013fb36/certifi-2024.7.4-py3-none-any.whl (162kB)\n",
      "\u001b[K     |████████████████████████████████| 163kB 76.3MB/s eta 0:00:01\n",
      "\u001b[?25hCollecting typing-extensions<5,>=4.3\n",
      "  Downloading https://files.pythonhosted.org/packages/26/9f/ad63fc0248c5379346306f8668cda6e2e2e9c95e01216d2b8ffd9ff037d0/typing_extensions-4.12.2-py3-none-any.whl\n",
      "Collecting filelock<4,>=3.5\n",
      "  Downloading https://files.pythonhosted.org/packages/ae/f0/48285f0262fe47103a4a45972ed2f9b93e4c80b8fd609fa98da78b2a5706/filelock-3.15.4-py3-none-any.whl\n",
      "Collecting pyOpenSSL<24.0.0,>=16.2.0\n",
      "\u001b[?25l  Downloading https://files.pythonhosted.org/packages/db/de/007b832ad7a95e6a73745609bbe123c407aa2c46bb0b8f765c8718294e7f/pyOpenSSL-23.3.0-py3-none-any.whl (58kB)\n",
      "\u001b[K     |████████████████████████████████| 61kB 19.2MB/s eta 0:00:01\n",
      "\u001b[?25hCollecting charset-normalizer<4,>=2\n",
      "\u001b[?25l  Downloading https://files.pythonhosted.org/packages/3d/09/d82fe4a34c5f0585f9ea1df090e2a71eb9bb1e469723053e1ee9f57c16f3/charset_normalizer-3.3.2-cp38-cp38-manylinux_2_17_x86_64.manylinux2014_x86_64.whl (141kB)\n",
      "\u001b[K     |████████████████████████████████| 143kB 74.6MB/s eta 0:00:01\n",
      "\u001b[?25hCollecting idna<4,>=2.5\n",
      "\u001b[?25l  Downloading https://files.pythonhosted.org/packages/e5/3e/741d8c82801c347547f8a2a06aa57dbb1992be9e948df2ea0eda2c8b79e8/idna-3.7-py3-none-any.whl (66kB)\n",
      "\u001b[K     |████████████████████████████████| 71kB 18.6MB/s eta 0:00:01\n",
      "\u001b[?25hCollecting urllib3<2.0.0,>=1.21.1; python_version < \"3.10\"\n",
      "\u001b[?25l  Downloading https://files.pythonhosted.org/packages/ae/6a/99eaaeae8becaa17a29aeb334a18e5d582d873b6f084c11f02581b8d7f7f/urllib3-1.26.19-py2.py3-none-any.whl (143kB)\n",
      "\u001b[K     |████████████████████████████████| 153kB 78.6MB/s eta 0:00:01\n",
      "\u001b[?25hCollecting platformdirs<4.0.0,>=2.6.0\n",
      "  Downloading https://files.pythonhosted.org/packages/56/29/3ec311dc18804409ecf0d2b09caa976f3ae6215559306b5b530004e11156/platformdirs-3.11.0-py3-none-any.whl\n",
      "Collecting cryptography<42.0.0,>=3.1.0\n",
      "\u001b[?25l  Downloading https://files.pythonhosted.org/packages/14/fd/dd5bd6ab0d12476ebca579cbfd48d31bd90fa28fa257b209df585dcf62a0/cryptography-41.0.7-cp37-abi3-manylinux_2_17_x86_64.manylinux2014_x86_64.whl (4.4MB)\n",
      "\u001b[K     |████████████████████████████████| 4.4MB 72.6MB/s eta 0:00:01\n",
      "\u001b[?25hCollecting packaging\n",
      "\u001b[?25l  Downloading https://files.pythonhosted.org/packages/08/aa/cc0199a5f0ad350994d660967a8efb233fe0416e4639146c089643407ce6/packaging-24.1-py3-none-any.whl (53kB)\n",
      "\u001b[K     |████████████████████████████████| 61kB 12.8MB/s eta 0:00:01\n",
      "\u001b[?25hCollecting tomlkit\n",
      "  Downloading https://files.pythonhosted.org/packages/fd/7c/b753bf603852cab0a660da6e81f4ea5d2ca0f0b2b4870766d7aa9bceb7a2/tomlkit-0.13.0-py3-none-any.whl\n",
      "Collecting sortedcontainers>=2.4.0\n",
      "  Downloading https://files.pythonhosted.org/packages/32/46/9cb0e58b2deb7f82b84065f37f3bffeb12413f947f9388e4cac22c4621ce/sortedcontainers-2.4.0-py2.py3-none-any.whl\n",
      "Collecting pyjwt<3.0.0\n",
      "  Downloading https://files.pythonhosted.org/packages/2b/4f/e04a8067c7c96c364cef7ef73906504e2f40d690811c021e1a1901473a19/PyJWT-2.8.0-py3-none-any.whl\n",
      "Collecting pyarrow; extra == \"pandas\"\n",
      "\u001b[?25l  Downloading https://files.pythonhosted.org/packages/3f/08/bc497130789833de09e345e3ce4647e3ce86517c4f70f2144f0367ca378b/pyarrow-17.0.0-cp38-cp38-manylinux_2_17_x86_64.manylinux2014_x86_64.whl (40.0MB)\n",
      "\u001b[K     |████████████████████████████████| 40.0MB 76.0MB/s eta 0:00:01\n",
      "\u001b[?25hCollecting six>=1.5\n",
      "  Downloading https://files.pythonhosted.org/packages/d9/5a/e7c31adbe875f2abbb91bd84cf2dc52d792b5a01506781dbcf25c91daf11/six-1.16.0-py2.py3-none-any.whl\n",
      "Collecting pycparser\n",
      "\u001b[?25l  Downloading https://files.pythonhosted.org/packages/13/a3/a812df4e2dd5696d1f351d58b8fe16a405b234ad2886a0dab9183fb78109/pycparser-2.22-py3-none-any.whl (117kB)\n",
      "\u001b[K     |████████████████████████████████| 122kB 73.4MB/s eta 0:00:01\n",
      "\u001b[31mERROR: jupyterlab 3.2.4 has requirement jupyter-server~=1.4, but you'll have jupyter-server 2.7.3 which is incompatible.\u001b[0m\n",
      "\u001b[31mERROR: jupyterlab-server 2.25.4 has requirement babel>=2.10, but you'll have babel 2.9.1 which is incompatible.\u001b[0m\n",
      "\u001b[?25hInstalling collected packages: six, python-dateutil, tzdata, numpy, pytz, pandas, asn1crypto, pycparser, cffi, certifi, idna, charset-normalizer, urllib3, requests, typing-extensions, filelock, cryptography, pyOpenSSL, platformdirs, packaging, tomlkit, sortedcontainers, pyjwt, pyarrow, snowflake-connector-python, refractio\n",
      "Successfully installed asn1crypto-1.5.1 certifi-2024.7.4 cffi-1.16.0 charset-normalizer-3.3.2 cryptography-41.0.7 filelock-3.15.4 idna-3.7 numpy-1.24.4 packaging-24.1 pandas-2.0.0 platformdirs-3.11.0 pyOpenSSL-23.3.0 pyarrow-17.0.0 pycparser-2.22 pyjwt-2.8.0 python-dateutil-2.9.0.post0 pytz-2024.1 refractio-2.1.5.6 requests-2.32.3 six-1.16.0 snowflake-connector-python-3.6.0 sortedcontainers-2.4.0 tomlkit-0.13.0 typing-extensions-4.12.2 tzdata-2024.1 urllib3-1.26.19\n",
      "\u001b[33mWARNING: You are using pip version 19.3.1; however, version 24.2 is available.\n",
      "You should consider upgrading via the 'pip install --upgrade pip' command.\u001b[0m\n",
      "Note: you may need to restart the kernel to use updated packages.\n"
     ]
    }
   ],
   "source": [
    "pip install refractio[snowflake]"
   ]
  },
  {
   "cell_type": "code",
   "execution_count": 3,
   "id": "6f58ce7d",
   "metadata": {},
   "outputs": [
    {
     "name": "stdout",
     "output_type": "stream",
     "text": [
      "Collecting matplotlib\n",
      "  Using cached https://files.pythonhosted.org/packages/30/33/cc27211d2ffeee4fd7402dca137b6e8a83f6dcae3d4be8d0ad5068555561/matplotlib-3.7.5-cp38-cp38-manylinux_2_12_x86_64.manylinux2010_x86_64.whl\n",
      "Collecting packaging>=20.0\n",
      "  Using cached https://files.pythonhosted.org/packages/08/aa/cc0199a5f0ad350994d660967a8efb233fe0416e4639146c089643407ce6/packaging-24.1-py3-none-any.whl\n",
      "Collecting contourpy>=1.0.1\n",
      "  Using cached https://files.pythonhosted.org/packages/8e/71/7f20855592cc929bc206810432b991ec4c702dc26b0567b132e52c85536f/contourpy-1.1.1-cp38-cp38-manylinux_2_17_x86_64.manylinux2014_x86_64.whl\n",
      "Collecting pillow>=6.2.0\n",
      "  Using cached https://files.pythonhosted.org/packages/84/4c/69bbed9e436ac22f9ed193a2b64f64d68fcfbc9f4106249dc7ed4889907b/pillow-10.4.0-cp38-cp38-manylinux_2_17_x86_64.manylinux2014_x86_64.whl\n",
      "Collecting numpy<2,>=1.20\n",
      "  Using cached https://files.pythonhosted.org/packages/98/5d/5738903efe0ecb73e51eb44feafba32bdba2081263d40c5043568ff60faf/numpy-1.24.4-cp38-cp38-manylinux_2_17_x86_64.manylinux2014_x86_64.whl\n",
      "Collecting importlib-resources>=3.2.0; python_version < \"3.10\"\n",
      "  Using cached https://files.pythonhosted.org/packages/75/06/4df55e1b7b112d183f65db9503bff189e97179b256e1ea450a3c365241e0/importlib_resources-6.4.0-py3-none-any.whl\n",
      "Collecting kiwisolver>=1.0.1\n",
      "  Using cached https://files.pythonhosted.org/packages/d2/55/7021ffcc8cb26a520bb051aa0a3d08daf200cde945e5863d5768161e2d3d/kiwisolver-1.4.5-cp38-cp38-manylinux_2_5_x86_64.manylinux1_x86_64.whl\n",
      "Collecting pyparsing>=2.3.1\n",
      "  Using cached https://files.pythonhosted.org/packages/9d/ea/6d76df31432a0e6fdf81681a895f009a4bb47b3c39036db3e1b528191d52/pyparsing-3.1.2-py3-none-any.whl\n",
      "Collecting fonttools>=4.22.0\n",
      "  Using cached https://files.pythonhosted.org/packages/f1/d1/8a596e41e4df480e186de3cd0e90a461a01b7e4f20b5443a5c2a87567e18/fonttools-4.53.1-cp38-cp38-manylinux_2_17_x86_64.manylinux2014_x86_64.whl\n",
      "Collecting python-dateutil>=2.7\n",
      "  Using cached https://files.pythonhosted.org/packages/ec/57/56b9bcc3c9c6a792fcbaf139543cee77261f3651ca9da0c93f5c1221264b/python_dateutil-2.9.0.post0-py2.py3-none-any.whl\n",
      "Collecting cycler>=0.10\n",
      "  Using cached https://files.pythonhosted.org/packages/e7/05/c19819d5e3d95294a6f5947fb9b9629efb316b96de511b418c53d245aae6/cycler-0.12.1-py3-none-any.whl\n",
      "Collecting zipp>=3.1.0; python_version < \"3.10\"\n",
      "  Using cached https://files.pythonhosted.org/packages/20/38/f5c473fe9b90c8debdd29ea68d5add0289f1936d6f923b6b9cc0b931194c/zipp-3.19.2-py3-none-any.whl\n",
      "Collecting six>=1.5\n",
      "  Using cached https://files.pythonhosted.org/packages/d9/5a/e7c31adbe875f2abbb91bd84cf2dc52d792b5a01506781dbcf25c91daf11/six-1.16.0-py2.py3-none-any.whl\n",
      "\u001b[31mERROR: jupyterlab 3.2.4 has requirement jupyter-server~=1.4, but you'll have jupyter-server 2.7.3 which is incompatible.\u001b[0m\n",
      "\u001b[31mERROR: jupyterlab-server 2.25.4 has requirement babel>=2.10, but you'll have babel 2.9.1 which is incompatible.\u001b[0m\n",
      "Installing collected packages: packaging, numpy, contourpy, pillow, zipp, importlib-resources, kiwisolver, pyparsing, fonttools, six, python-dateutil, cycler, matplotlib\n",
      "Successfully installed contourpy-1.1.1 cycler-0.12.1 fonttools-4.53.1 importlib-resources-6.4.0 kiwisolver-1.4.5 matplotlib-3.7.5 numpy-1.24.4 packaging-24.1 pillow-10.4.0 pyparsing-3.1.2 python-dateutil-2.9.0.post0 six-1.16.0 zipp-3.19.2\n",
      "\u001b[33mWARNING: Target directory /tmp/pip_packages/packaging already exists. Specify --upgrade to force replacement.\u001b[0m\n",
      "\u001b[33mWARNING: Target directory /tmp/pip_packages/packaging-24.1.dist-info already exists. Specify --upgrade to force replacement.\u001b[0m\n",
      "\u001b[33mWARNING: Target directory /tmp/pip_packages/numpy.libs already exists. Specify --upgrade to force replacement.\u001b[0m\n",
      "\u001b[33mWARNING: Target directory /tmp/pip_packages/numpy-1.24.4.dist-info already exists. Specify --upgrade to force replacement.\u001b[0m\n",
      "\u001b[33mWARNING: Target directory /tmp/pip_packages/numpy already exists. Specify --upgrade to force replacement.\u001b[0m\n",
      "\u001b[33mWARNING: Target directory /tmp/pip_packages/contourpy-1.1.1.dist-info already exists. Specify --upgrade to force replacement.\u001b[0m\n",
      "\u001b[33mWARNING: Target directory /tmp/pip_packages/contourpy already exists. Specify --upgrade to force replacement.\u001b[0m\n",
      "\u001b[33mWARNING: Target directory /tmp/pip_packages/pillow.libs already exists. Specify --upgrade to force replacement.\u001b[0m\n",
      "\u001b[33mWARNING: Target directory /tmp/pip_packages/PIL already exists. Specify --upgrade to force replacement.\u001b[0m\n",
      "\u001b[33mWARNING: Target directory /tmp/pip_packages/pillow-10.4.0.dist-info already exists. Specify --upgrade to force replacement.\u001b[0m\n",
      "\u001b[33mWARNING: Target directory /tmp/pip_packages/zipp already exists. Specify --upgrade to force replacement.\u001b[0m\n",
      "\u001b[33mWARNING: Target directory /tmp/pip_packages/zipp-3.19.2.dist-info already exists. Specify --upgrade to force replacement.\u001b[0m\n",
      "\u001b[33mWARNING: Target directory /tmp/pip_packages/importlib_resources already exists. Specify --upgrade to force replacement.\u001b[0m\n",
      "\u001b[33mWARNING: Target directory /tmp/pip_packages/importlib_resources-6.4.0.dist-info already exists. Specify --upgrade to force replacement.\u001b[0m\n",
      "\u001b[33mWARNING: Target directory /tmp/pip_packages/kiwisolver-1.4.5.dist-info already exists. Specify --upgrade to force replacement.\u001b[0m\n",
      "\u001b[33mWARNING: Target directory /tmp/pip_packages/kiwisolver already exists. Specify --upgrade to force replacement.\u001b[0m\n",
      "\u001b[33mWARNING: Target directory /tmp/pip_packages/pyparsing already exists. Specify --upgrade to force replacement.\u001b[0m\n",
      "\u001b[33mWARNING: Target directory /tmp/pip_packages/pyparsing-3.1.2.dist-info already exists. Specify --upgrade to force replacement.\u001b[0m\n",
      "\u001b[33mWARNING: Target directory /tmp/pip_packages/fontTools already exists. Specify --upgrade to force replacement.\u001b[0m\n",
      "\u001b[33mWARNING: Target directory /tmp/pip_packages/fonttools-4.53.1.dist-info already exists. Specify --upgrade to force replacement.\u001b[0m\n",
      "\u001b[33mWARNING: Target directory /tmp/pip_packages/six.py already exists. Specify --upgrade to force replacement.\u001b[0m\n",
      "\u001b[33mWARNING: Target directory /tmp/pip_packages/six-1.16.0.dist-info already exists. Specify --upgrade to force replacement.\u001b[0m\n",
      "\u001b[33mWARNING: Target directory /tmp/pip_packages/__pycache__ already exists. Specify --upgrade to force replacement.\u001b[0m\n",
      "\u001b[33mWARNING: Target directory /tmp/pip_packages/dateutil already exists. Specify --upgrade to force replacement.\u001b[0m\n",
      "\u001b[33mWARNING: Target directory /tmp/pip_packages/python_dateutil-2.9.0.post0.dist-info already exists. Specify --upgrade to force replacement.\u001b[0m\n",
      "\u001b[33mWARNING: Target directory /tmp/pip_packages/cycler already exists. Specify --upgrade to force replacement.\u001b[0m\n",
      "\u001b[33mWARNING: Target directory /tmp/pip_packages/cycler-0.12.1.dist-info already exists. Specify --upgrade to force replacement.\u001b[0m\n",
      "\u001b[33mWARNING: Target directory /tmp/pip_packages/matplotlib-3.7.5-py3.8-nspkg.pth already exists. Specify --upgrade to force replacement.\u001b[0m\n",
      "\u001b[33mWARNING: Target directory /tmp/pip_packages/pylab.py already exists. Specify --upgrade to force replacement.\u001b[0m\n",
      "\u001b[33mWARNING: Target directory /tmp/pip_packages/matplotlib-3.7.5.dist-info already exists. Specify --upgrade to force replacement.\u001b[0m\n",
      "\u001b[33mWARNING: Target directory /tmp/pip_packages/mpl_toolkits already exists. Specify --upgrade to force replacement.\u001b[0m\n",
      "\u001b[33mWARNING: Target directory /tmp/pip_packages/matplotlib already exists. Specify --upgrade to force replacement.\u001b[0m\n",
      "\u001b[33mWARNING: Target directory /tmp/pip_packages/bin already exists. Specify --upgrade to force replacement.\u001b[0m\n",
      "\u001b[33mWARNING: Target directory /tmp/pip_packages/share already exists. Specify --upgrade to force replacement.\u001b[0m\n",
      "\u001b[33mWARNING: You are using pip version 19.3.1; however, version 24.1.2 is available.\n",
      "You should consider upgrading via the 'pip install --upgrade pip' command.\u001b[0m\n",
      "Note: you may need to restart the kernel to use updated packages.\n"
     ]
    }
   ],
   "source": [
    "pip install matplotlib"
   ]
  },
  {
   "cell_type": "code",
   "execution_count": 2,
   "id": "6b38f25a",
   "metadata": {},
   "outputs": [
    {
     "name": "stdout",
     "output_type": "stream",
     "text": [
      "Collecting statsmodels\n",
      "\u001b[?25l  Downloading https://files.pythonhosted.org/packages/34/1f/ab80ddc1ebebe9f7bb18da1cc7ceb96f789809a3381565092c358ff71a72/statsmodels-0.14.1-cp38-cp38-manylinux_2_17_x86_64.manylinux2014_x86_64.whl (10.9MB)\n",
      "\u001b[K     |████████████████████████████████| 10.9MB 3.8MB/s eta 0:00:01\n",
      "\u001b[?25hCollecting packaging>=21.3\n",
      "  Using cached https://files.pythonhosted.org/packages/08/aa/cc0199a5f0ad350994d660967a8efb233fe0416e4639146c089643407ce6/packaging-24.1-py3-none-any.whl\n",
      "Collecting patsy>=0.5.4\n",
      "\u001b[?25l  Downloading https://files.pythonhosted.org/packages/43/f3/1d311a09c34f14f5973bb0bb0dc3a6e007e1eda90b5492d082689936ca51/patsy-0.5.6-py2.py3-none-any.whl (233kB)\n",
      "\u001b[K     |████████████████████████████████| 235kB 80.4MB/s eta 0:00:01\n",
      "\u001b[?25hCollecting scipy!=1.9.2,>=1.4\n",
      "\u001b[?25l  Downloading https://files.pythonhosted.org/packages/69/f0/fb07a9548e48b687b8bf2fa81d71aba9cfc548d365046ca1c791e24db99d/scipy-1.10.1-cp38-cp38-manylinux_2_17_x86_64.manylinux2014_x86_64.whl (34.5MB)\n",
      "\u001b[K     |████████████████████████████████| 34.5MB 71.4MB/s eta 0:00:01\n",
      "\u001b[?25hCollecting pandas!=2.1.0,>=1.0\n",
      "\u001b[?25l  Downloading https://files.pythonhosted.org/packages/f8/7f/5b047effafbdd34e52c9e2d7e44f729a0655efafb22198c45cf692cdc157/pandas-2.0.3-cp38-cp38-manylinux_2_17_x86_64.manylinux2014_x86_64.whl (12.4MB)\n",
      "\u001b[K     |████████████████████████████████| 12.4MB 67.0MB/s eta 0:00:01\n",
      "\u001b[?25hCollecting numpy<2,>=1.18\n",
      "  Using cached https://files.pythonhosted.org/packages/98/5d/5738903efe0ecb73e51eb44feafba32bdba2081263d40c5043568ff60faf/numpy-1.24.4-cp38-cp38-manylinux_2_17_x86_64.manylinux2014_x86_64.whl\n",
      "Collecting six\n",
      "  Using cached https://files.pythonhosted.org/packages/d9/5a/e7c31adbe875f2abbb91bd84cf2dc52d792b5a01506781dbcf25c91daf11/six-1.16.0-py2.py3-none-any.whl\n",
      "Collecting tzdata>=2022.1\n",
      "  Using cached https://files.pythonhosted.org/packages/65/58/f9c9e6be752e9fcb8b6a0ee9fb87e6e7a1f6bcab2cdc73f02bb7ba91ada0/tzdata-2024.1-py2.py3-none-any.whl\n",
      "Collecting python-dateutil>=2.8.2\n",
      "  Using cached https://files.pythonhosted.org/packages/ec/57/56b9bcc3c9c6a792fcbaf139543cee77261f3651ca9da0c93f5c1221264b/python_dateutil-2.9.0.post0-py2.py3-none-any.whl\n",
      "Collecting pytz>=2020.1\n",
      "  Using cached https://files.pythonhosted.org/packages/9c/3d/a121f284241f08268b21359bd425f7d4825cffc5ac5cd0e1b3d82ffd2b10/pytz-2024.1-py2.py3-none-any.whl\n",
      "\u001b[31mERROR: refractio 2.1.5.6 has requirement pandas==2.0.0, but you'll have pandas 2.0.3 which is incompatible.\u001b[0m\n",
      "\u001b[31mERROR: jupyterlab 3.2.4 has requirement jupyter-server~=1.4, but you'll have jupyter-server 2.7.3 which is incompatible.\u001b[0m\n",
      "\u001b[31mERROR: jupyterlab-server 2.25.4 has requirement babel>=2.10, but you'll have babel 2.9.1 which is incompatible.\u001b[0m\n",
      "Installing collected packages: packaging, six, numpy, patsy, scipy, tzdata, python-dateutil, pytz, pandas, statsmodels\n",
      "Successfully installed numpy-1.24.4 packaging-24.1 pandas-2.0.3 patsy-0.5.6 python-dateutil-2.9.0.post0 pytz-2024.1 scipy-1.10.1 six-1.16.0 statsmodels-0.14.1 tzdata-2024.1\n",
      "\u001b[33mWARNING: Target directory /tmp/pip_packages/packaging already exists. Specify --upgrade to force replacement.\u001b[0m\n",
      "\u001b[33mWARNING: Target directory /tmp/pip_packages/packaging-24.1.dist-info already exists. Specify --upgrade to force replacement.\u001b[0m\n",
      "\u001b[33mWARNING: Target directory /tmp/pip_packages/six.py already exists. Specify --upgrade to force replacement.\u001b[0m\n",
      "\u001b[33mWARNING: Target directory /tmp/pip_packages/six-1.16.0.dist-info already exists. Specify --upgrade to force replacement.\u001b[0m\n",
      "\u001b[33mWARNING: Target directory /tmp/pip_packages/__pycache__ already exists. Specify --upgrade to force replacement.\u001b[0m\n",
      "\u001b[33mWARNING: Target directory /tmp/pip_packages/numpy.libs already exists. Specify --upgrade to force replacement.\u001b[0m\n",
      "\u001b[33mWARNING: Target directory /tmp/pip_packages/numpy-1.24.4.dist-info already exists. Specify --upgrade to force replacement.\u001b[0m\n",
      "\u001b[33mWARNING: Target directory /tmp/pip_packages/numpy already exists. Specify --upgrade to force replacement.\u001b[0m\n",
      "\u001b[33mWARNING: Target directory /tmp/pip_packages/tzdata already exists. Specify --upgrade to force replacement.\u001b[0m\n",
      "\u001b[33mWARNING: Target directory /tmp/pip_packages/tzdata-2024.1.dist-info already exists. Specify --upgrade to force replacement.\u001b[0m\n",
      "\u001b[33mWARNING: Target directory /tmp/pip_packages/dateutil already exists. Specify --upgrade to force replacement.\u001b[0m\n",
      "\u001b[33mWARNING: Target directory /tmp/pip_packages/python_dateutil-2.9.0.post0.dist-info already exists. Specify --upgrade to force replacement.\u001b[0m\n",
      "\u001b[33mWARNING: Target directory /tmp/pip_packages/pytz already exists. Specify --upgrade to force replacement.\u001b[0m\n",
      "\u001b[33mWARNING: Target directory /tmp/pip_packages/pytz-2024.1.dist-info already exists. Specify --upgrade to force replacement.\u001b[0m\n",
      "\u001b[33mWARNING: Target directory /tmp/pip_packages/pandas already exists. Specify --upgrade to force replacement.\u001b[0m\n",
      "\u001b[33mWARNING: Target directory /tmp/pip_packages/bin already exists. Specify --upgrade to force replacement.\u001b[0m\n",
      "\u001b[33mWARNING: You are using pip version 19.3.1; however, version 24.2 is available.\n",
      "You should consider upgrading via the 'pip install --upgrade pip' command.\u001b[0m\n",
      "Note: you may need to restart the kernel to use updated packages.\n"
     ]
    }
   ],
   "source": [
    "pip install statsmodels"
   ]
  },
  {
   "cell_type": "code",
   "execution_count": 3,
   "id": "7d011e92",
   "metadata": {},
   "outputs": [
    {
     "name": "stdout",
     "output_type": "stream",
     "text": [
      "Collecting scikit-learn\n",
      "\u001b[?25l  Downloading https://files.pythonhosted.org/packages/3f/48/6fdd99f5717045f9984616b5c2ec683d6286d30c0ac234563062132b83ab/scikit_learn-1.3.2-cp38-cp38-manylinux_2_17_x86_64.manylinux2014_x86_64.whl (11.1MB)\n",
      "\u001b[K     |████████████████████████████████| 11.1MB 3.7MB/s eta 0:00:01\n",
      "\u001b[?25hCollecting joblib>=1.1.1\n",
      "\u001b[?25l  Downloading https://files.pythonhosted.org/packages/91/29/df4b9b42f2be0b623cbd5e2140cafcaa2bef0759a00b7b70104dcfe2fb51/joblib-1.4.2-py3-none-any.whl (301kB)\n",
      "\u001b[K     |████████████████████████████████| 307kB 79.2MB/s eta 0:00:01\n",
      "\u001b[?25hCollecting numpy<2.0,>=1.17.3\n",
      "  Using cached https://files.pythonhosted.org/packages/98/5d/5738903efe0ecb73e51eb44feafba32bdba2081263d40c5043568ff60faf/numpy-1.24.4-cp38-cp38-manylinux_2_17_x86_64.manylinux2014_x86_64.whl\n",
      "Collecting threadpoolctl>=2.0.0\n",
      "  Downloading https://files.pythonhosted.org/packages/4b/2c/ffbf7a134b9ab11a67b0cf0726453cedd9c5043a4fe7a35d1cefa9a1bcfb/threadpoolctl-3.5.0-py3-none-any.whl\n",
      "Collecting scipy>=1.5.0\n",
      "  Using cached https://files.pythonhosted.org/packages/69/f0/fb07a9548e48b687b8bf2fa81d71aba9cfc548d365046ca1c791e24db99d/scipy-1.10.1-cp38-cp38-manylinux_2_17_x86_64.manylinux2014_x86_64.whl\n",
      "Installing collected packages: joblib, numpy, threadpoolctl, scipy, scikit-learn\n",
      "Successfully installed joblib-1.4.2 numpy-1.24.4 scikit-learn-1.3.2 scipy-1.10.1 threadpoolctl-3.5.0\n",
      "\u001b[33mWARNING: Target directory /tmp/pip_packages/numpy.libs already exists. Specify --upgrade to force replacement.\u001b[0m\n",
      "\u001b[33mWARNING: Target directory /tmp/pip_packages/numpy-1.24.4.dist-info already exists. Specify --upgrade to force replacement.\u001b[0m\n",
      "\u001b[33mWARNING: Target directory /tmp/pip_packages/numpy already exists. Specify --upgrade to force replacement.\u001b[0m\n",
      "\u001b[33mWARNING: Target directory /tmp/pip_packages/__pycache__ already exists. Specify --upgrade to force replacement.\u001b[0m\n",
      "\u001b[33mWARNING: Target directory /tmp/pip_packages/scipy already exists. Specify --upgrade to force replacement.\u001b[0m\n",
      "\u001b[33mWARNING: Target directory /tmp/pip_packages/scipy.libs already exists. Specify --upgrade to force replacement.\u001b[0m\n",
      "\u001b[33mWARNING: Target directory /tmp/pip_packages/scipy-1.10.1.dist-info already exists. Specify --upgrade to force replacement.\u001b[0m\n",
      "\u001b[33mWARNING: Target directory /tmp/pip_packages/bin already exists. Specify --upgrade to force replacement.\u001b[0m\n",
      "\u001b[33mWARNING: You are using pip version 19.3.1; however, version 24.2 is available.\n",
      "You should consider upgrading via the 'pip install --upgrade pip' command.\u001b[0m\n",
      "Note: you may need to restart the kernel to use updated packages.\n"
     ]
    }
   ],
   "source": [
    "pip install scikit-learn"
   ]
  },
  {
   "cell_type": "markdown",
   "id": "50071dd7",
   "metadata": {},
   "source": [
    "## Step 1. Connecting to the Snowflake Connection specified in Insight Designer Module"
   ]
  },
  {
   "cell_type": "code",
   "execution_count": 1,
   "id": "225bd58e",
   "metadata": {},
   "outputs": [
    {
     "name": "stdout",
     "output_type": "stream",
     "text": [
      "Connection manager service url initialised to http://fdc-project-manager:80/project-manager\n",
      "If you need to update its value then update the variable CONNECTION_MANAGER_BASE_URL in os env.\n"
     ]
    }
   ],
   "source": [
    "from refractio import snowflake"
   ]
  },
  {
   "cell_type": "markdown",
   "id": "157ca319",
   "metadata": {},
   "source": [
    "### (i) Getting dataset from Insight Designer"
   ]
  },
  {
   "cell_type": "code",
   "execution_count": 2,
   "id": "bb864005",
   "metadata": {},
   "outputs": [],
   "source": [
    "dataset = snowflake.get_dataframe(\"PHARMACEUTICAL_BRAND\")"
   ]
  },
  {
   "cell_type": "code",
   "execution_count": 3,
   "id": "9157434d",
   "metadata": {},
   "outputs": [
    {
     "data": {
      "text/html": [
       "<div>\n",
       "<style scoped>\n",
       "    .dataframe tbody tr th:only-of-type {\n",
       "        vertical-align: middle;\n",
       "    }\n",
       "\n",
       "    .dataframe tbody tr th {\n",
       "        vertical-align: top;\n",
       "    }\n",
       "\n",
       "    .dataframe thead th {\n",
       "        text-align: right;\n",
       "    }\n",
       "</style>\n",
       "<table border=\"1\" class=\"dataframe\">\n",
       "  <thead>\n",
       "    <tr style=\"text-align: right;\">\n",
       "      <th></th>\n",
       "      <th>PHYSICIAN_ID</th>\n",
       "      <th>IMS_ID</th>\n",
       "      <th>NPI_ID</th>\n",
       "      <th>ADDRESS</th>\n",
       "      <th>STATE</th>\n",
       "      <th>CITY</th>\n",
       "      <th>ZIP_CODE</th>\n",
       "      <th>PHYSICIAN_NAME</th>\n",
       "      <th>REGION</th>\n",
       "      <th>DISTRICT</th>\n",
       "      <th>...</th>\n",
       "      <th>NTS</th>\n",
       "      <th>SWITCH</th>\n",
       "      <th>CALL_DETAILS</th>\n",
       "      <th>VEEVA_APPROVED_EMAIL</th>\n",
       "      <th>REMOTE_CALLS</th>\n",
       "      <th>TARGET_TYPE</th>\n",
       "      <th>PAYER_CHANNEL</th>\n",
       "      <th>PAYER</th>\n",
       "      <th>REFILLS</th>\n",
       "      <th>DATE</th>\n",
       "    </tr>\n",
       "  </thead>\n",
       "  <tbody>\n",
       "    <tr>\n",
       "      <th>0</th>\n",
       "      <td>6089519</td>\n",
       "      <td>6089520</td>\n",
       "      <td>1699722165</td>\n",
       "      <td>8700 Beverly Blvd</td>\n",
       "      <td>W Hollywood</td>\n",
       "      <td>California</td>\n",
       "      <td>90048</td>\n",
       "      <td>Arash Bereliani</td>\n",
       "      <td>West</td>\n",
       "      <td>Burbank</td>\n",
       "      <td>...</td>\n",
       "      <td>1</td>\n",
       "      <td>3</td>\n",
       "      <td>0</td>\n",
       "      <td>0</td>\n",
       "      <td>0</td>\n",
       "      <td>Target</td>\n",
       "      <td>Cash</td>\n",
       "      <td>Cash</td>\n",
       "      <td>2</td>\n",
       "      <td>2022-08-01</td>\n",
       "    </tr>\n",
       "    <tr>\n",
       "      <th>1</th>\n",
       "      <td>6089519</td>\n",
       "      <td>6089520</td>\n",
       "      <td>1699722165</td>\n",
       "      <td>8700 Beverly Blvd</td>\n",
       "      <td>W Hollywood</td>\n",
       "      <td>California</td>\n",
       "      <td>90048</td>\n",
       "      <td>Arash Bereliani</td>\n",
       "      <td>West</td>\n",
       "      <td>Burbank</td>\n",
       "      <td>...</td>\n",
       "      <td>0</td>\n",
       "      <td>0</td>\n",
       "      <td>0</td>\n",
       "      <td>0</td>\n",
       "      <td>0</td>\n",
       "      <td>Target</td>\n",
       "      <td>Cash</td>\n",
       "      <td>Cash</td>\n",
       "      <td>4</td>\n",
       "      <td>2022-08-01</td>\n",
       "    </tr>\n",
       "    <tr>\n",
       "      <th>2</th>\n",
       "      <td>6089519</td>\n",
       "      <td>6089520</td>\n",
       "      <td>1699722165</td>\n",
       "      <td>8700 Beverly Blvd</td>\n",
       "      <td>W Hollywood</td>\n",
       "      <td>California</td>\n",
       "      <td>90048</td>\n",
       "      <td>Arash Bereliani</td>\n",
       "      <td>West</td>\n",
       "      <td>Burbank</td>\n",
       "      <td>...</td>\n",
       "      <td>0</td>\n",
       "      <td>0</td>\n",
       "      <td>0</td>\n",
       "      <td>0</td>\n",
       "      <td>0</td>\n",
       "      <td>Target</td>\n",
       "      <td>Cash</td>\n",
       "      <td>Cash</td>\n",
       "      <td>3</td>\n",
       "      <td>2022-08-01</td>\n",
       "    </tr>\n",
       "    <tr>\n",
       "      <th>3</th>\n",
       "      <td>6089519</td>\n",
       "      <td>6089520</td>\n",
       "      <td>1699722165</td>\n",
       "      <td>8700 Beverly Blvd</td>\n",
       "      <td>W Hollywood</td>\n",
       "      <td>California</td>\n",
       "      <td>90048</td>\n",
       "      <td>Arash Bereliani</td>\n",
       "      <td>West</td>\n",
       "      <td>Burbank</td>\n",
       "      <td>...</td>\n",
       "      <td>1</td>\n",
       "      <td>2</td>\n",
       "      <td>6</td>\n",
       "      <td>2</td>\n",
       "      <td>2</td>\n",
       "      <td>Target</td>\n",
       "      <td>Cash</td>\n",
       "      <td>Cash</td>\n",
       "      <td>1</td>\n",
       "      <td>2022-08-01</td>\n",
       "    </tr>\n",
       "    <tr>\n",
       "      <th>4</th>\n",
       "      <td>6089576</td>\n",
       "      <td>6089577</td>\n",
       "      <td>1447227509</td>\n",
       "      <td>1366 Victory Blvd</td>\n",
       "      <td>Staten Island</td>\n",
       "      <td>New York</td>\n",
       "      <td>10301</td>\n",
       "      <td>Samala Rama Swamy</td>\n",
       "      <td>Northeast</td>\n",
       "      <td>Staten Island</td>\n",
       "      <td>...</td>\n",
       "      <td>0</td>\n",
       "      <td>1</td>\n",
       "      <td>0</td>\n",
       "      <td>0</td>\n",
       "      <td>0</td>\n",
       "      <td>Target</td>\n",
       "      <td>Cash</td>\n",
       "      <td>Cash</td>\n",
       "      <td>5</td>\n",
       "      <td>2022-08-01</td>\n",
       "    </tr>\n",
       "    <tr>\n",
       "      <th>...</th>\n",
       "      <td>...</td>\n",
       "      <td>...</td>\n",
       "      <td>...</td>\n",
       "      <td>...</td>\n",
       "      <td>...</td>\n",
       "      <td>...</td>\n",
       "      <td>...</td>\n",
       "      <td>...</td>\n",
       "      <td>...</td>\n",
       "      <td>...</td>\n",
       "      <td>...</td>\n",
       "      <td>...</td>\n",
       "      <td>...</td>\n",
       "      <td>...</td>\n",
       "      <td>...</td>\n",
       "      <td>...</td>\n",
       "      <td>...</td>\n",
       "      <td>...</td>\n",
       "      <td>...</td>\n",
       "      <td>...</td>\n",
       "      <td>...</td>\n",
       "    </tr>\n",
       "    <tr>\n",
       "      <th>282523</th>\n",
       "      <td>6315092</td>\n",
       "      <td>6315093</td>\n",
       "      <td>1790705598</td>\n",
       "      <td>2730 S Val Vista Dr</td>\n",
       "      <td>Gilbert</td>\n",
       "      <td>Arizona</td>\n",
       "      <td>85295</td>\n",
       "      <td>Ann Marie Padilla</td>\n",
       "      <td>West</td>\n",
       "      <td>Mesa</td>\n",
       "      <td>...</td>\n",
       "      <td>1</td>\n",
       "      <td>3</td>\n",
       "      <td>3</td>\n",
       "      <td>2</td>\n",
       "      <td>2</td>\n",
       "      <td>Non-Target</td>\n",
       "      <td>Medicare</td>\n",
       "      <td>BCBS Medicare</td>\n",
       "      <td>2</td>\n",
       "      <td>2024-07-01</td>\n",
       "    </tr>\n",
       "    <tr>\n",
       "      <th>282524</th>\n",
       "      <td>6315914</td>\n",
       "      <td>6315915</td>\n",
       "      <td>1922040658</td>\n",
       "      <td>6065 Montana Ave</td>\n",
       "      <td>El Paso</td>\n",
       "      <td>Texas</td>\n",
       "      <td>79925</td>\n",
       "      <td>Zafer H. Haydar</td>\n",
       "      <td>Southwest</td>\n",
       "      <td>El Paso</td>\n",
       "      <td>...</td>\n",
       "      <td>0</td>\n",
       "      <td>0</td>\n",
       "      <td>0</td>\n",
       "      <td>0</td>\n",
       "      <td>0</td>\n",
       "      <td>Target</td>\n",
       "      <td>Medicare</td>\n",
       "      <td>AARP</td>\n",
       "      <td>1</td>\n",
       "      <td>2024-07-01</td>\n",
       "    </tr>\n",
       "    <tr>\n",
       "      <th>282525</th>\n",
       "      <td>6315914</td>\n",
       "      <td>6315915</td>\n",
       "      <td>1922040658</td>\n",
       "      <td>6065 Montana Ave</td>\n",
       "      <td>El Paso</td>\n",
       "      <td>Texas</td>\n",
       "      <td>79925</td>\n",
       "      <td>Zafer H. Haydar</td>\n",
       "      <td>Southwest</td>\n",
       "      <td>El Paso</td>\n",
       "      <td>...</td>\n",
       "      <td>0</td>\n",
       "      <td>0</td>\n",
       "      <td>0</td>\n",
       "      <td>0</td>\n",
       "      <td>0</td>\n",
       "      <td>Target</td>\n",
       "      <td>Medicare</td>\n",
       "      <td>Blue Cross Blueshield</td>\n",
       "      <td>1</td>\n",
       "      <td>2024-07-01</td>\n",
       "    </tr>\n",
       "    <tr>\n",
       "      <th>282526</th>\n",
       "      <td>6315914</td>\n",
       "      <td>6315915</td>\n",
       "      <td>1922040658</td>\n",
       "      <td>6065 Montana Ave</td>\n",
       "      <td>El Paso</td>\n",
       "      <td>Texas</td>\n",
       "      <td>79925</td>\n",
       "      <td>Zafer H. Haydar</td>\n",
       "      <td>Southwest</td>\n",
       "      <td>El Paso</td>\n",
       "      <td>...</td>\n",
       "      <td>6</td>\n",
       "      <td>5</td>\n",
       "      <td>0</td>\n",
       "      <td>0</td>\n",
       "      <td>0</td>\n",
       "      <td>Target</td>\n",
       "      <td>Medicare</td>\n",
       "      <td>BCBS Medicare</td>\n",
       "      <td>6</td>\n",
       "      <td>2024-07-01</td>\n",
       "    </tr>\n",
       "    <tr>\n",
       "      <th>282527</th>\n",
       "      <td>6315914</td>\n",
       "      <td>6315915</td>\n",
       "      <td>1922040658</td>\n",
       "      <td>6065 Montana Ave</td>\n",
       "      <td>El Paso</td>\n",
       "      <td>Texas</td>\n",
       "      <td>79925</td>\n",
       "      <td>Zafer H. Haydar</td>\n",
       "      <td>Southwest</td>\n",
       "      <td>El Paso</td>\n",
       "      <td>...</td>\n",
       "      <td>5</td>\n",
       "      <td>6</td>\n",
       "      <td>5</td>\n",
       "      <td>3</td>\n",
       "      <td>4</td>\n",
       "      <td>Target</td>\n",
       "      <td>Medicare</td>\n",
       "      <td>BCBS Medicare</td>\n",
       "      <td>0</td>\n",
       "      <td>2024-07-01</td>\n",
       "    </tr>\n",
       "  </tbody>\n",
       "</table>\n",
       "<p>282528 rows × 30 columns</p>\n",
       "</div>"
      ],
      "text/plain": [
       "       PHYSICIAN_ID   IMS_ID      NPI_ID              ADDRESS          STATE   \n",
       "0           6089519  6089520  1699722165    8700 Beverly Blvd    W Hollywood  \\\n",
       "1           6089519  6089520  1699722165    8700 Beverly Blvd    W Hollywood   \n",
       "2           6089519  6089520  1699722165    8700 Beverly Blvd    W Hollywood   \n",
       "3           6089519  6089520  1699722165    8700 Beverly Blvd    W Hollywood   \n",
       "4           6089576  6089577  1447227509    1366 Victory Blvd  Staten Island   \n",
       "...             ...      ...         ...                  ...            ...   \n",
       "282523      6315092  6315093  1790705598  2730 S Val Vista Dr        Gilbert   \n",
       "282524      6315914  6315915  1922040658     6065 Montana Ave        El Paso   \n",
       "282525      6315914  6315915  1922040658     6065 Montana Ave        El Paso   \n",
       "282526      6315914  6315915  1922040658     6065 Montana Ave        El Paso   \n",
       "282527      6315914  6315915  1922040658     6065 Montana Ave        El Paso   \n",
       "\n",
       "              CITY ZIP_CODE     PHYSICIAN_NAME     REGION       DISTRICT  ...   \n",
       "0       California    90048    Arash Bereliani       West        Burbank  ...  \\\n",
       "1       California    90048    Arash Bereliani       West        Burbank  ...   \n",
       "2       California    90048    Arash Bereliani       West        Burbank  ...   \n",
       "3       California    90048    Arash Bereliani       West        Burbank  ...   \n",
       "4         New York    10301  Samala Rama Swamy  Northeast  Staten Island  ...   \n",
       "...            ...      ...                ...        ...            ...  ...   \n",
       "282523     Arizona    85295  Ann Marie Padilla       West           Mesa  ...   \n",
       "282524       Texas    79925    Zafer H. Haydar  Southwest        El Paso  ...   \n",
       "282525       Texas    79925    Zafer H. Haydar  Southwest        El Paso  ...   \n",
       "282526       Texas    79925    Zafer H. Haydar  Southwest        El Paso  ...   \n",
       "282527       Texas    79925    Zafer H. Haydar  Southwest        El Paso  ...   \n",
       "\n",
       "       NTS SWITCH CALL_DETAILS VEEVA_APPROVED_EMAIL REMOTE_CALLS TARGET_TYPE   \n",
       "0        1      3            0                    0            0      Target  \\\n",
       "1        0      0            0                    0            0      Target   \n",
       "2        0      0            0                    0            0      Target   \n",
       "3        1      2            6                    2            2      Target   \n",
       "4        0      1            0                    0            0      Target   \n",
       "...     ..    ...          ...                  ...          ...         ...   \n",
       "282523   1      3            3                    2            2  Non-Target   \n",
       "282524   0      0            0                    0            0      Target   \n",
       "282525   0      0            0                    0            0      Target   \n",
       "282526   6      5            0                    0            0      Target   \n",
       "282527   5      6            5                    3            4      Target   \n",
       "\n",
       "       PAYER_CHANNEL                  PAYER  REFILLS        DATE  \n",
       "0               Cash                   Cash        2  2022-08-01  \n",
       "1               Cash                   Cash        4  2022-08-01  \n",
       "2               Cash                   Cash        3  2022-08-01  \n",
       "3               Cash                   Cash        1  2022-08-01  \n",
       "4               Cash                   Cash        5  2022-08-01  \n",
       "...              ...                    ...      ...         ...  \n",
       "282523      Medicare          BCBS Medicare        2  2024-07-01  \n",
       "282524      Medicare                   AARP        1  2024-07-01  \n",
       "282525      Medicare  Blue Cross Blueshield        1  2024-07-01  \n",
       "282526      Medicare          BCBS Medicare        6  2024-07-01  \n",
       "282527      Medicare          BCBS Medicare        0  2024-07-01  \n",
       "\n",
       "[282528 rows x 30 columns]"
      ]
     },
     "execution_count": 3,
     "metadata": {},
     "output_type": "execute_result"
    }
   ],
   "source": [
    "dataset"
   ]
  },
  {
   "cell_type": "markdown",
   "id": "5d4bd633",
   "metadata": {},
   "source": [
    "## Step 2. Exploratory Data Analysis (EDA)"
   ]
  },
  {
   "cell_type": "markdown",
   "id": "04798dea",
   "metadata": {},
   "source": [
    "### Checking  TRx trend for GAMMATEX brand \n",
    "#### Plot shows various highs and lows but yearly essence of TRx shows an upward trend."
   ]
  },
  {
   "cell_type": "code",
   "execution_count": 4,
   "id": "3ca828e7",
   "metadata": {},
   "outputs": [
    {
     "ename": "ModuleNotFoundError",
     "evalue": "No module named 'matplotlib'",
     "output_type": "error",
     "traceback": [
      "\u001b[0;31m---------------------------------------------------------------------------\u001b[0m",
      "\u001b[0;31mModuleNotFoundError\u001b[0m                       Traceback (most recent call last)",
      "Cell \u001b[0;32mIn[4], line 1\u001b[0m\n\u001b[0;32m----> 1\u001b[0m \u001b[38;5;28;01mimport\u001b[39;00m \u001b[38;5;21;01mmatplotlib\u001b[39;00m\u001b[38;5;21;01m.\u001b[39;00m\u001b[38;5;21;01mpyplot\u001b[39;00m \u001b[38;5;28;01mas\u001b[39;00m \u001b[38;5;21;01mplt\u001b[39;00m \u001b[38;5;66;03m#importing pandas and matplotlib library.\u001b[39;00m\n\u001b[1;32m      2\u001b[0m \u001b[38;5;28;01mimport\u001b[39;00m \u001b[38;5;21;01mpandas\u001b[39;00m \u001b[38;5;28;01mas\u001b[39;00m \u001b[38;5;21;01mpd\u001b[39;00m\n\u001b[1;32m      3\u001b[0m gammatex_data \u001b[38;5;241m=\u001b[39m dataset[dataset[\u001b[38;5;124m'\u001b[39m\u001b[38;5;124mBRAND\u001b[39m\u001b[38;5;124m'\u001b[39m]\u001b[38;5;241m==\u001b[39m\u001b[38;5;124m'\u001b[39m\u001b[38;5;124mGAMMATEX\u001b[39m\u001b[38;5;124m'\u001b[39m] \u001b[38;5;66;03m#to read the dataset where brand is GAMMATEX\u001b[39;00m\n",
      "\u001b[0;31mModuleNotFoundError\u001b[0m: No module named 'matplotlib'"
     ]
    }
   ],
   "source": [
    "import matplotlib.pyplot as plt #importing pandas and matplotlib library.\n",
    "import pandas as pd\n",
    "gammatex_data = dataset[dataset['BRAND']=='GAMMATEX'] #to read the dataset where brand is GAMMATEX\n",
    "gammatex_data.loc[:,'DATE'] = pd.to_datetime(gammatex_data.loc[:,'DATE']) #To DATETIME format conversion for python to understand\n",
    "monthly_data = gammatex_data.resample('M', on='DATE').sum() #Aggregation of data to Monthly data by adding all values. \n",
    "plt.figure(figsize = (12,5)) #visualisation\n",
    "plt.plot(monthly_data.index , monthly_data['TRX'],  marker='o',  linestyle = '-')\n",
    "plt.title('Trend of TRx over time for GAMMATEX')\n",
    "plt.xlabel('DATE')\n",
    "plt.ylabel('No of TRx')\n",
    "plt.grid(True)\n",
    "plt.show()"
   ]
  },
  {
   "cell_type": "markdown",
   "id": "89ed69b1",
   "metadata": {},
   "source": [
    "### Checking  TRx trend for DELTAZYME brand \n",
    "#### Plot shows various highs and lows but yearly essence of TRx shows an downward trend."
   ]
  },
  {
   "cell_type": "code",
   "execution_count": 5,
   "id": "444d1bcd",
   "metadata": {},
   "outputs": [
    {
     "ename": "ModuleNotFoundError",
     "evalue": "No module named 'matplotlib'",
     "output_type": "error",
     "traceback": [
      "\u001b[0;31m---------------------------------------------------------------------------\u001b[0m",
      "\u001b[0;31mModuleNotFoundError\u001b[0m                       Traceback (most recent call last)",
      "Cell \u001b[0;32mIn[5], line 1\u001b[0m\n\u001b[0;32m----> 1\u001b[0m \u001b[38;5;28;01mimport\u001b[39;00m \u001b[38;5;21;01mmatplotlib\u001b[39;00m\u001b[38;5;21;01m.\u001b[39;00m\u001b[38;5;21;01mpyplot\u001b[39;00m \u001b[38;5;28;01mas\u001b[39;00m \u001b[38;5;21;01mplt\u001b[39;00m\n\u001b[1;32m      2\u001b[0m deltazyme_data \u001b[38;5;241m=\u001b[39m dataset[dataset[\u001b[38;5;124m'\u001b[39m\u001b[38;5;124mBRAND\u001b[39m\u001b[38;5;124m'\u001b[39m]\u001b[38;5;241m==\u001b[39m\u001b[38;5;124m'\u001b[39m\u001b[38;5;124mDELTAZYME\u001b[39m\u001b[38;5;124m'\u001b[39m]\n\u001b[1;32m      3\u001b[0m deltazyme_data\u001b[38;5;241m.\u001b[39mloc[:,\u001b[38;5;124m'\u001b[39m\u001b[38;5;124mDATE\u001b[39m\u001b[38;5;124m'\u001b[39m] \u001b[38;5;241m=\u001b[39m pd\u001b[38;5;241m.\u001b[39mto_datetime(deltazyme_data\u001b[38;5;241m.\u001b[39mloc[:,\u001b[38;5;124m'\u001b[39m\u001b[38;5;124mDATE\u001b[39m\u001b[38;5;124m'\u001b[39m])\n",
      "\u001b[0;31mModuleNotFoundError\u001b[0m: No module named 'matplotlib'"
     ]
    }
   ],
   "source": [
    "import matplotlib.pyplot as plt\n",
    "deltazyme_data = dataset[dataset['BRAND']=='DELTAZYME']\n",
    "deltazyme_data.loc[:,'DATE'] = pd.to_datetime(deltazyme_data.loc[:,'DATE'])\n",
    "monthly_data = deltazyme_data.resample('M', on='DATE').sum()\n",
    "plt.figure(figsize = (15,5))\n",
    "plt.plot(monthly_data.index , monthly_data['TRX'],  marker='o',  linestyle = '-')\n",
    "plt.title('Trend of TRx over time for DELTAZYME')\n",
    "plt.xlabel('Date')\n",
    "plt.ylabel('No of TRx')\n",
    "plt.grid(True)\n",
    "plt.show()"
   ]
  },
  {
   "cell_type": "markdown",
   "id": "b1e4233e",
   "metadata": {},
   "source": [
    "### Exploring the region-wise trends for all the brands "
   ]
  },
  {
   "cell_type": "markdown",
   "id": "abf43252",
   "metadata": {},
   "source": [
    "#### Total Prescriptions were added after grouping them by brand and region wise. We came up with a list of unique Brands (4) and unique Regions (7) to Plot the trends which include 28 Subplots "
   ]
  },
  {
   "cell_type": "code",
   "execution_count": 6,
   "id": "bda226da",
   "metadata": {},
   "outputs": [
    {
     "ename": "NameError",
     "evalue": "name 'pd' is not defined",
     "output_type": "error",
     "traceback": [
      "\u001b[0;31m---------------------------------------------------------------------------\u001b[0m",
      "\u001b[0;31mNameError\u001b[0m                                 Traceback (most recent call last)",
      "Cell \u001b[0;32mIn[6], line 1\u001b[0m\n\u001b[0;32m----> 1\u001b[0m dataset[\u001b[38;5;124m'\u001b[39m\u001b[38;5;124mDATE\u001b[39m\u001b[38;5;124m'\u001b[39m] \u001b[38;5;241m=\u001b[39m \u001b[43mpd\u001b[49m\u001b[38;5;241m.\u001b[39mto_datetime(dataset[\u001b[38;5;124m'\u001b[39m\u001b[38;5;124mDATE\u001b[39m\u001b[38;5;124m'\u001b[39m])\n\u001b[1;32m      2\u001b[0m grouped_data \u001b[38;5;241m=\u001b[39m dataset\u001b[38;5;241m.\u001b[39mgroupby([\u001b[38;5;124m'\u001b[39m\u001b[38;5;124mBRAND\u001b[39m\u001b[38;5;124m'\u001b[39m , \u001b[38;5;124m'\u001b[39m\u001b[38;5;124mREGION\u001b[39m\u001b[38;5;124m'\u001b[39m, pd\u001b[38;5;241m.\u001b[39mGrouper(key \u001b[38;5;241m=\u001b[39m \u001b[38;5;124m'\u001b[39m\u001b[38;5;124mDATE\u001b[39m\u001b[38;5;124m'\u001b[39m, freq\u001b[38;5;241m=\u001b[39m \u001b[38;5;124m'\u001b[39m\u001b[38;5;124mM\u001b[39m\u001b[38;5;124m'\u001b[39m)])\u001b[38;5;241m.\u001b[39msum()\u001b[38;5;241m.\u001b[39mreset_index()\n\u001b[1;32m      3\u001b[0m region_list \u001b[38;5;241m=\u001b[39m grouped_data[\u001b[38;5;124m'\u001b[39m\u001b[38;5;124mREGION\u001b[39m\u001b[38;5;124m'\u001b[39m]\u001b[38;5;241m.\u001b[39munique()\n",
      "\u001b[0;31mNameError\u001b[0m: name 'pd' is not defined"
     ]
    }
   ],
   "source": [
    "dataset['DATE'] = pd.to_datetime(dataset['DATE'])\n",
    "grouped_data = dataset.groupby(['BRAND' , 'REGION', pd.Grouper(key = 'DATE', freq= 'M')]).sum().reset_index()\n",
    "region_list = grouped_data['REGION'].unique()\n",
    "brand_list = grouped_data['BRAND'].unique()\n",
    "fig1,axs1 = plt.subplots(len(region_list), 2 , figsize = (20,20), sharey=True)\n",
    "fig1.suptitle('Trend over time for diffrent Region and Brand')\n",
    "\n",
    "for i, region in enumerate(region_list):\n",
    "    for j, brand in enumerate(brand_list[:2]):\n",
    "        region_brand_data = grouped_data[(grouped_data['REGION']== region) & (grouped_data['BRAND'] == brand)]\n",
    "        axs1[i,j].plot(region_brand_data['DATE'], region_brand_data['TRX'] , marker='o' , linestyle='-')\n",
    "        axs1[i,j].set_title(f'REGION: {region}, BRAND: {brand}')\n",
    "        axs1[i,j].set_xlable = ('Time')\n",
    "        axs1[i,j].set_ylable = ('No of TRx')\n",
    "        axs1[i,j].grid(True)\n",
    "plt.tight_layout()\n",
    "plt.show()\n",
    "fig2,axs2 = plt.subplots(len(region_list), 2 , figsize = (20,20), sharey=True)\n",
    "fig2.suptitle('Trend over time for diffrent Region and Brand')\n",
    "for i, region in enumerate(region_list):\n",
    "    for j, brand in enumerate(brand_list[2:]):\n",
    "        region_brand_data = grouped_data[(grouped_data['REGION']== region) & (grouped_data['BRAND'] == brand)]\n",
    "        axs2[i,j].plot(region_brand_data['DATE'], region_brand_data['TRX'] , marker='o' , linestyle='-')\n",
    "        axs2[i,j].set_title(f'REGION: {region}, BRAND: {brand}')\n",
    "        axs2[i,j].set_xlable = ('Time')\n",
    "        axs2[i,j].set_ylable = ('No of TRx')\n",
    "        axs2[i,j].grid(True)\n",
    "plt.tight_layout()\n",
    "plt.show()"
   ]
  },
  {
   "cell_type": "markdown",
   "id": "27ebe0e3",
   "metadata": {},
   "source": [
    "#### Observation: In above plots we have seen little Upward , Downward as well as Sideways trend. But there is no high upsurge or downsurge can be seen in any brand. "
   ]
  },
  {
   "cell_type": "markdown",
   "id": "bac14552",
   "metadata": {},
   "source": [
    "# Step 3. Start Analysing different Models that can be used in Forecasting future trends."
   ]
  },
  {
   "cell_type": "markdown",
   "id": "839ef346",
   "metadata": {},
   "source": [
    "#### We have selected GAMMATEX brand and Mid-Atlantic region to do further modeling analysis. "
   ]
  },
  {
   "cell_type": "code",
   "execution_count": 7,
   "id": "db5c7a3c",
   "metadata": {},
   "outputs": [
    {
     "ename": "NameError",
     "evalue": "name 'grouped_data' is not defined",
     "output_type": "error",
     "traceback": [
      "\u001b[0;31m---------------------------------------------------------------------------\u001b[0m",
      "\u001b[0;31mNameError\u001b[0m                                 Traceback (most recent call last)",
      "Cell \u001b[0;32mIn[7], line 1\u001b[0m\n\u001b[0;32m----> 1\u001b[0m zetaphin_midwest_data \u001b[38;5;241m=\u001b[39m \u001b[43mgrouped_data\u001b[49m[(grouped_data[\u001b[38;5;124m'\u001b[39m\u001b[38;5;124mBRAND\u001b[39m\u001b[38;5;124m'\u001b[39m]  \u001b[38;5;241m==\u001b[39m \u001b[38;5;124m'\u001b[39m\u001b[38;5;124mZETAPHIN\u001b[39m\u001b[38;5;124m'\u001b[39m) \u001b[38;5;241m&\u001b[39m (grouped_data[\u001b[38;5;124m'\u001b[39m\u001b[38;5;124mREGION\u001b[39m\u001b[38;5;124m'\u001b[39m] \u001b[38;5;241m==\u001b[39m \u001b[38;5;124m'\u001b[39m\u001b[38;5;124mMidwest\u001b[39m\u001b[38;5;124m'\u001b[39m)]\n\u001b[1;32m      2\u001b[0m final_dataset \u001b[38;5;241m=\u001b[39m zetaphin_midwest_data[[\u001b[38;5;124m'\u001b[39m\u001b[38;5;124mDATE\u001b[39m\u001b[38;5;124m'\u001b[39m,\u001b[38;5;124m'\u001b[39m\u001b[38;5;124mTRX\u001b[39m\u001b[38;5;124m'\u001b[39m]]\n\u001b[1;32m      3\u001b[0m plt\u001b[38;5;241m.\u001b[39mfigure(figsize\u001b[38;5;241m=\u001b[39m(\u001b[38;5;241m10\u001b[39m,\u001b[38;5;241m4\u001b[39m))\n",
      "\u001b[0;31mNameError\u001b[0m: name 'grouped_data' is not defined"
     ]
    }
   ],
   "source": [
    "zetaphin_midwest_data = grouped_data[(grouped_data['BRAND']  == 'ZETAPHIN') & (grouped_data['REGION'] == 'Midwest')]\n",
    "final_dataset = zetaphin_midwest_data[['DATE','TRX']]\n",
    "plt.figure(figsize=(10,4))\n",
    "plt.xlabel(\"Months\")\n",
    "plt.ylabel(\"TRx\")\n",
    "plt.plot(final_dataset['TRX'])"
   ]
  },
  {
   "cell_type": "markdown",
   "id": "eb7afd82",
   "metadata": {},
   "source": [
    "# Decomposing time series data into seasonal and trend component.\n",
    "### Time series decomposition helps us break down a time series dataset into three main components:\n",
    "-  __Trend:__ The trend component represents the long-term movement in the data, representing the underlying pattern.\n",
    "-  __Seasonality:__ The seasonality component represents the repeating, short-term fluctuations caused by factors like seasons or cycles.\n",
    "-  __Residual (Noise):__ The residual component represents random variability that remains after removing the trend and seasonality.\n",
    "    <br><br> By separating these components, we can gain insights into the behavior of the data and make better forecasts.\n",
    "    \n",
    "<br><br> __Types of Time Series Decomposition Techniques__\n",
    "-  __Additive Decomposition:__ <br>\n",
    "\n",
    "In additive decomposition, the time series is expressed as the sum of its components: <br> $ Y(t) = Trend(t) + Seasonal(t) + Residual(t) $\n",
    "<br> It’s suitable when the magnitude of seasonality doesn’t vary with the magnitude of the time series.\n",
    "\n",
    "-  __Multiplicative Decomposition:__<br>\n",
    "\n",
    "In multiplicative decomposition, the time series is expressed as the product of its components: <br> $Y(t) = Trend(t) * Seasonal(t) * Residual(t)$ \n",
    "<br> It’s suitable when the magnitude of seasonality scales with the magnitude of the time series."
   ]
  },
  {
   "cell_type": "code",
   "execution_count": 18,
   "id": "4d4660ac",
   "metadata": {},
   "outputs": [
    {
     "data": {
      "image/png": "[encoded data removed]",
      "text/plain": [
       "<Figure size 432x288 with 4 Axes>"
      ]
     },
     "metadata": {
      "needs_background": "light"
     },
     "output_type": "display_data"
    },
    {
     "data": {
      "image/png": "[encoded data removed]",
      "text/plain": [
       "<Figure size 432x288 with 4 Axes>"
      ]
     },
     "metadata": {
      "needs_background": "light"
     },
     "output_type": "display_data"
    }
   ],
   "source": [
    "#Decomposing Time series\n",
    "\n",
    "from statsmodels.tsa.seasonal import seasonal_decompose\n",
    "ts_decompose_multiplicative = seasonal_decompose(final_dataset['TRX'], model = 'multiplicative', period=12, extrapolate_trend = 'freq')\n",
    "ts_decompose_additive = seasonal_decompose(final_dataset['TRX'], model = 'additive', period=12, extrapolate_trend = 'freq')\n",
    "#Plotting \n",
    "#ts_decompose.show()\n",
    "ts_plot = ts_decompose_multiplicative.plot()\n",
    "ts_plot = ts_decompose_additive.plot()"
   ]
  },
  {
   "cell_type": "markdown",
   "id": "299ce341",
   "metadata": {},
   "source": [
    "### Writing seasonal , trend and residual part of multiplicative component back into the dataframe."
   ]
  },
  {
   "cell_type": "code",
   "execution_count": 26,
   "id": "1fa5219d",
   "metadata": {},
   "outputs": [],
   "source": [
    "df_decomposed = pd.concat([ts_decompose_multiplicative.seasonal, ts_decompose_multiplicative.trend, ts_decompose_multiplicative.resid, ts_decompose_multiplicative.observed], axis = 1)\n",
    "df_decomposed.columns = ['seasonal', 'trend', 'residual', 'actual_values']\n",
    "final_dataset.loc[:,'seasonal'] = df_decomposed.loc[:,'seasonal']\n",
    "final_dataset.loc[:,'trend'] = df_decomposed.loc[:,'trend']\n",
    "final_dataset.loc[:,'residual'] = df_decomposed.loc[:,'residual']"
   ]
  },
  {
   "cell_type": "markdown",
   "id": "f4e7c19e",
   "metadata": {},
   "source": [
    "## Start Exploring Different Methods for Time Series Analysis.\n",
    "1. __Moving Average:__ <br>\n",
    "In time series analysis, the moving-average model (MA model), also known as moving-average process, is a common approach for modeling __univariate time series__. <br>\n",
    "This model smoothens the time series curve by computing the __average__ of all the data points in a fixed-width sliding window and replacing those points with the computed value."
   ]
  },
  {
   "cell_type": "code",
   "execution_count": 28,
   "id": "8d3a0679",
   "metadata": {},
   "outputs": [
    {
     "data": {
      "text/html": [
       "<div>\n",
       "<style scoped>\n",
       "    .dataframe tbody tr th:only-of-type {\n",
       "        vertical-align: middle;\n",
       "    }\n",
       "\n",
       "    .dataframe tbody tr th {\n",
       "        vertical-align: top;\n",
       "    }\n",
       "\n",
       "    .dataframe thead th {\n",
       "        text-align: right;\n",
       "    }\n",
       "</style>\n",
       "<table border=\"1\" class=\"dataframe\">\n",
       "  <thead>\n",
       "    <tr style=\"text-align: right;\">\n",
       "      <th></th>\n",
       "      <th>TRX</th>\n",
       "      <th>MAvg_12</th>\n",
       "    </tr>\n",
       "  </thead>\n",
       "  <tbody>\n",
       "    <tr>\n",
       "      <th>564</th>\n",
       "      <td>17618</td>\n",
       "      <td>15049.00</td>\n",
       "    </tr>\n",
       "    <tr>\n",
       "      <th>565</th>\n",
       "      <td>16532</td>\n",
       "      <td>15415.08</td>\n",
       "    </tr>\n",
       "    <tr>\n",
       "      <th>566</th>\n",
       "      <td>18465</td>\n",
       "      <td>15531.92</td>\n",
       "    </tr>\n",
       "    <tr>\n",
       "      <th>567</th>\n",
       "      <td>17661</td>\n",
       "      <td>15893.92</td>\n",
       "    </tr>\n",
       "    <tr>\n",
       "      <th>568</th>\n",
       "      <td>16109</td>\n",
       "      <td>16204.33</td>\n",
       "    </tr>\n",
       "    <tr>\n",
       "      <th>569</th>\n",
       "      <td>16292</td>\n",
       "      <td>16425.33</td>\n",
       "    </tr>\n",
       "    <tr>\n",
       "      <th>570</th>\n",
       "      <td>16246</td>\n",
       "      <td>16469.67</td>\n",
       "    </tr>\n",
       "    <tr>\n",
       "      <th>571</th>\n",
       "      <td>16027</td>\n",
       "      <td>16435.75</td>\n",
       "    </tr>\n",
       "    <tr>\n",
       "      <th>572</th>\n",
       "      <td>15482</td>\n",
       "      <td>16159.58</td>\n",
       "    </tr>\n",
       "    <tr>\n",
       "      <th>573</th>\n",
       "      <td>19180</td>\n",
       "      <td>16270.58</td>\n",
       "    </tr>\n",
       "    <tr>\n",
       "      <th>574</th>\n",
       "      <td>15962</td>\n",
       "      <td>16519.58</td>\n",
       "    </tr>\n",
       "    <tr>\n",
       "      <th>575</th>\n",
       "      <td>15270</td>\n",
       "      <td>16768.17</td>\n",
       "    </tr>\n",
       "  </tbody>\n",
       "</table>\n",
       "</div>"
      ],
      "text/plain": [
       "       TRX  MAvg_12\n",
       "564  17618 15049.00\n",
       "565  16532 15415.08\n",
       "566  18465 15531.92\n",
       "567  17661 15893.92\n",
       "568  16109 16204.33\n",
       "569  16292 16425.33\n",
       "570  16246 16469.67\n",
       "571  16027 16435.75\n",
       "572  15482 16159.58\n",
       "573  19180 16270.58\n",
       "574  15962 16519.58\n",
       "575  15270 16768.17"
      ]
     },
     "execution_count": 28,
     "metadata": {},
     "output_type": "execute_result"
    }
   ],
   "source": [
    "final_dataset.loc[:,'MAvg_12']= final_dataset.loc[:,'TRX'].rolling(window = 12).mean().shift(1)\n",
    "pd.set_option('display.float_format', lambda x: '%.2f' % x)\n",
    "final_dataset[['TRX', 'MAvg_12']][12:]"
   ]
  },
  {
   "cell_type": "markdown",
   "id": "80c80763",
   "metadata": {},
   "source": [
    "#### To see the comparison between actual TRx vs the average of these data points replaced by Moving Average Model"
   ]
  },
  {
   "cell_type": "code",
   "execution_count": 17,
   "id": "da95e96e",
   "metadata": {},
   "outputs": [
    {
     "data": {
      "text/plain": [
       "<matplotlib.legend.Legend at 0x7f2f966985e0>"
      ]
     },
     "execution_count": 17,
     "metadata": {},
     "output_type": "execute_result"
    },
    {
     "data": {
      "image/png": "[encoded data removed]",
      "text/plain": [
       "<Figure size 720x288 with 1 Axes>"
      ]
     },
     "metadata": {
      "needs_background": "light"
     },
     "output_type": "display_data"
    }
   ],
   "source": [
    "plt.figure(figsize=(10,4))\n",
    "plt.xlabel(\"Months\")\n",
    "plt.ylabel(\"TRx\")\n",
    "plt.plot(final_dataset['TRX'][12:])\n",
    "plt.plot(final_dataset['MAvg_12'][12:], '.')\n",
    "plt.legend(['TRx','Moving Average'])"
   ]
  },
  {
   "cell_type": "markdown",
   "id": "44e9cb1e",
   "metadata": {},
   "source": [
    "#### To check the accuracy of varios forecasting model , few Accuracy Metrics has to be defined.\n",
    "-  __MAE:__ <br> Mean Absoulute Error MAE is defined as the average of absolute difference between forecasted values and true values.\n",
    "-  __MAPE:__ <br> The mean absolute percentage error (MAPE), also known as mean absolute percentage deviation (MAPD), is a measure of prediction accuracy of a forecasting method in statistics ,  indicating the average deviation between forecasted and actual values. <br> \n",
    "    $  ([( | actual - forecast | ) / | actual | ] * 100) $\n",
    "-  __MSE:__ <br> (Mean Squared Error) It is also defined as the metric that assesses the quality of forecasting model or predictor. MSE also incorporates both the variance (the spread of predicted values from each other) and bias (the distance of predicted value from its true value). <br> \n",
    "-  __RMSE:__ <br> Root Mean Squared Error ,this metric is an extension of MSE and is defined as the square root of mean square error."
   ]
  },
  {
   "cell_type": "code",
   "execution_count": 32,
   "id": "af36d9ca",
   "metadata": {},
   "outputs": [],
   "source": [
    "# Defining Mape Function\n",
    "import numpy as np\n",
    "def get_mape(actual, predicted):\n",
    "    y_true , y_pred = np.array(actual) , np.array(predicted)\n",
    "    return np.round(np.mean(np.abs((y_true-y_pred)/y_true))*100, 2)"
   ]
  },
  {
   "cell_type": "code",
   "execution_count": 33,
   "id": "18f4b1b3",
   "metadata": {},
   "outputs": [
    {
     "name": "stdout",
     "output_type": "stream",
     "text": [
      "Mape error in moving average is 7.12 %.\n",
      "Mean Absoulte Error in moving average is 1240.826388888889\n",
      "Mean Squared Error in moving average is 2608001.816550926\n",
      "Root Mean Squared Error in moving average is 1614.9309014787368\n"
     ]
    }
   ],
   "source": [
    "from sklearn.metrics import mean_squared_error\n",
    "from sklearn.metrics import mean_absolute_error\n",
    "mae_mavg = mean_absolute_error(final_dataset['TRX'][12:].values , final_dataset['MAvg_12'][12:].values)\n",
    "mse_mavg = mean_squared_error(final_dataset['TRX'][12:].values , final_dataset['MAvg_12'][12:].values)\n",
    "mape_mavg = get_mape(final_dataset['TRX'][12:].values , final_dataset['MAvg_12'][12:].values)\n",
    "rmse_mavg = np.sqrt(mse_mavg)\n",
    "print('Mape error in moving average is', mape_mavg , '%.')\n",
    "print('Mean Absoulte Error in moving average is', mae_mavg )\n",
    "print('Mean Squared Error in moving average is', mse_mavg )\n",
    "print('Root Mean Squared Error in moving average is', rmse_mavg )"
   ]
  },
  {
   "cell_type": "markdown",
   "id": "10e741a4",
   "metadata": {},
   "source": [
    "2. __Exponential smoothing:__ <br>\n",
    "Exponential smoothing is a broadly accurate forecasting method for short-term forecasts. The technique assigns larger weights to more recent observations while assigning exponentially decreasing weights as the observations get increasingly distant. <br>\n",
    "This methods work on the principle that a prediction is a weighted linear sum of past observations or lags. "
   ]
  },
  {
   "cell_type": "code",
   "execution_count": 35,
   "id": "4abfa0d0",
   "metadata": {},
   "outputs": [
    {
     "data": {
      "text/html": [
       "<div>\n",
       "<style scoped>\n",
       "    .dataframe tbody tr th:only-of-type {\n",
       "        vertical-align: middle;\n",
       "    }\n",
       "\n",
       "    .dataframe tbody tr th {\n",
       "        vertical-align: top;\n",
       "    }\n",
       "\n",
       "    .dataframe thead th {\n",
       "        text-align: right;\n",
       "    }\n",
       "</style>\n",
       "<table border=\"1\" class=\"dataframe\">\n",
       "  <thead>\n",
       "    <tr style=\"text-align: right;\">\n",
       "      <th></th>\n",
       "      <th>DATE</th>\n",
       "      <th>TRX</th>\n",
       "      <th>seasonal</th>\n",
       "      <th>trend</th>\n",
       "      <th>residual</th>\n",
       "      <th>MAvg_12</th>\n",
       "      <th>EWM</th>\n",
       "    </tr>\n",
       "  </thead>\n",
       "  <tbody>\n",
       "    <tr>\n",
       "      <th>564</th>\n",
       "      <td>2023-08-31</td>\n",
       "      <td>17618</td>\n",
       "      <td>1.00</td>\n",
       "      <td>16452.71</td>\n",
       "      <td>1.07</td>\n",
       "      <td>15049.00</td>\n",
       "      <td>15742.88</td>\n",
       "    </tr>\n",
       "    <tr>\n",
       "      <th>565</th>\n",
       "      <td>2023-09-30</td>\n",
       "      <td>16532</td>\n",
       "      <td>1.03</td>\n",
       "      <td>16297.67</td>\n",
       "      <td>0.98</td>\n",
       "      <td>15415.08</td>\n",
       "      <td>15907.96</td>\n",
       "    </tr>\n",
       "    <tr>\n",
       "      <th>566</th>\n",
       "      <td>2023-10-31</td>\n",
       "      <td>18465</td>\n",
       "      <td>1.06</td>\n",
       "      <td>16215.08</td>\n",
       "      <td>1.08</td>\n",
       "      <td>15531.92</td>\n",
       "      <td>16438.02</td>\n",
       "    </tr>\n",
       "    <tr>\n",
       "      <th>567</th>\n",
       "      <td>2023-11-30</td>\n",
       "      <td>17661</td>\n",
       "      <td>1.01</td>\n",
       "      <td>16395.08</td>\n",
       "      <td>1.06</td>\n",
       "      <td>15893.92</td>\n",
       "      <td>16689.70</td>\n",
       "    </tr>\n",
       "    <tr>\n",
       "      <th>568</th>\n",
       "      <td>2023-12-31</td>\n",
       "      <td>16109</td>\n",
       "      <td>0.94</td>\n",
       "      <td>16643.88</td>\n",
       "      <td>1.03</td>\n",
       "      <td>16204.33</td>\n",
       "      <td>16570.89</td>\n",
       "    </tr>\n",
       "    <tr>\n",
       "      <th>569</th>\n",
       "      <td>2024-01-31</td>\n",
       "      <td>16292</td>\n",
       "      <td>1.01</td>\n",
       "      <td>16752.58</td>\n",
       "      <td>0.96</td>\n",
       "      <td>16425.33</td>\n",
       "      <td>16514.09</td>\n",
       "    </tr>\n",
       "    <tr>\n",
       "      <th>570</th>\n",
       "      <td>2024-02-29</td>\n",
       "      <td>16246</td>\n",
       "      <td>1.04</td>\n",
       "      <td>16932.29</td>\n",
       "      <td>0.92</td>\n",
       "      <td>16469.67</td>\n",
       "      <td>16459.68</td>\n",
       "    </tr>\n",
       "    <tr>\n",
       "      <th>571</th>\n",
       "      <td>2024-03-31</td>\n",
       "      <td>16027</td>\n",
       "      <td>1.11</td>\n",
       "      <td>17049.45</td>\n",
       "      <td>0.84</td>\n",
       "      <td>16435.75</td>\n",
       "      <td>16372.14</td>\n",
       "    </tr>\n",
       "    <tr>\n",
       "      <th>572</th>\n",
       "      <td>2024-04-30</td>\n",
       "      <td>15482</td>\n",
       "      <td>0.92</td>\n",
       "      <td>17166.60</td>\n",
       "      <td>0.98</td>\n",
       "      <td>16159.58</td>\n",
       "      <td>16192.45</td>\n",
       "    </tr>\n",
       "    <tr>\n",
       "      <th>573</th>\n",
       "      <td>2024-05-31</td>\n",
       "      <td>19180</td>\n",
       "      <td>1.08</td>\n",
       "      <td>17283.75</td>\n",
       "      <td>1.03</td>\n",
       "      <td>16270.58</td>\n",
       "      <td>16794.40</td>\n",
       "    </tr>\n",
       "    <tr>\n",
       "      <th>574</th>\n",
       "      <td>2024-06-30</td>\n",
       "      <td>15962</td>\n",
       "      <td>0.87</td>\n",
       "      <td>17400.91</td>\n",
       "      <td>1.05</td>\n",
       "      <td>16519.58</td>\n",
       "      <td>16626.93</td>\n",
       "    </tr>\n",
       "    <tr>\n",
       "      <th>575</th>\n",
       "      <td>2024-07-31</td>\n",
       "      <td>15270</td>\n",
       "      <td>0.93</td>\n",
       "      <td>17518.06</td>\n",
       "      <td>0.94</td>\n",
       "      <td>16768.17</td>\n",
       "      <td>16354.26</td>\n",
       "    </tr>\n",
       "  </tbody>\n",
       "</table>\n",
       "</div>"
      ],
      "text/plain": [
       "          DATE    TRX  seasonal    trend  residual  MAvg_12      EWM\n",
       "564 2023-08-31  17618      1.00 16452.71      1.07 15049.00 15742.88\n",
       "565 2023-09-30  16532      1.03 16297.67      0.98 15415.08 15907.96\n",
       "566 2023-10-31  18465      1.06 16215.08      1.08 15531.92 16438.02\n",
       "567 2023-11-30  17661      1.01 16395.08      1.06 15893.92 16689.70\n",
       "568 2023-12-31  16109      0.94 16643.88      1.03 16204.33 16570.89\n",
       "569 2024-01-31  16292      1.01 16752.58      0.96 16425.33 16514.09\n",
       "570 2024-02-29  16246      1.04 16932.29      0.92 16469.67 16459.68\n",
       "571 2024-03-31  16027      1.11 17049.45      0.84 16435.75 16372.14\n",
       "572 2024-04-30  15482      0.92 17166.60      0.98 16159.58 16192.45\n",
       "573 2024-05-31  19180      1.08 17283.75      1.03 16270.58 16794.40\n",
       "574 2024-06-30  15962      0.87 17400.91      1.05 16519.58 16626.93\n",
       "575 2024-07-31  15270      0.93 17518.06      0.94 16768.17 16354.26"
      ]
     },
     "execution_count": 35,
     "metadata": {},
     "output_type": "execute_result"
    }
   ],
   "source": [
    "#Exponential Smoothing\n",
    "final_dataset.loc[:,'EWM'] = final_dataset.loc[:,'TRX'].ewm(alpha = 0.2).mean()\n",
    "final_dataset[12:]"
   ]
  },
  {
   "cell_type": "markdown",
   "id": "2ad42f28",
   "metadata": {},
   "source": [
    "### Comparison between Exponential smoothing and Moving Average models\n",
    "Exponential smoothing performs better because it took weighted sum of data points."
   ]
  },
  {
   "cell_type": "code",
   "execution_count": 40,
   "id": "21c71b21",
   "metadata": {},
   "outputs": [
    {
     "data": {
      "text/plain": [
       "<matplotlib.legend.Legend at 0x7fabe7044820>"
      ]
     },
     "execution_count": 40,
     "metadata": {},
     "output_type": "execute_result"
    },
    {
     "data": {
      "image/png": "[encoded data removed]",
      "text/plain": [
       "<Figure size 720x288 with 1 Axes>"
      ]
     },
     "metadata": {
      "needs_background": "light"
     },
     "output_type": "display_data"
    }
   ],
   "source": [
    "plt.figure(figsize=(10,4))\n",
    "plt.xlabel(\"Months\")\n",
    "plt.ylabel(\"TRx\")\n",
    "plt.plot(final_dataset['TRX'][12:])\n",
    "plt.plot(final_dataset['EWM'][12:], 'o')\n",
    "plt.plot(final_dataset['MAvg_12'][12:], '*')\n",
    "plt.legend(['TRx','EWM','MAvg_12'])"
   ]
  },
  {
   "cell_type": "code",
   "execution_count": 43,
   "id": "c8cb3ab0",
   "metadata": {},
   "outputs": [
    {
     "name": "stdout",
     "output_type": "stream",
     "text": [
      "Mape =  5.57 %.\n",
      "MAE =  965.4558002800665\n",
      "MSE =  1433214.2190839713\n",
      "RMSE =  1197.1692524801877\n",
      "Error reduced by 21.76966292134831 %\n"
     ]
    }
   ],
   "source": [
    "mae_ewm = mean_absolute_error(final_dataset['TRX'][12:].values , final_dataset['EWM'][12:].values)\n",
    "mse_ewm = mean_squared_error(final_dataset['TRX'][12:].values , final_dataset['EWM'][12:].values)\n",
    "mape_ewm = get_mape(final_dataset['TRX'][12:].values , final_dataset['EWM'][12:].values)\n",
    "rmse_ewm = np.sqrt(mse_ewm)\n",
    "print('Mape = ', mape_ewm , '%.')\n",
    "print('MAE = ', mae_ewm )\n",
    "print('MSE = ', mse_ewm )\n",
    "print('RMSE = ', rmse_ewm )\n",
    "\n",
    "print('Error reduced by', (mape_mavg-mape_ewm)*100/mape_mavg , '%')"
   ]
  },
  {
   "cell_type": "markdown",
   "id": "1cdf2e74",
   "metadata": {},
   "source": [
    "__3. ARIMA Model__<br>\n",
    "An autoregressive integrated moving average model is a form of regression analysis that gauges the strength of one dependent variable relative to other changing variables. The model's goal is to predict future securities or financial market moves by examining the differences between values in the series instead of through actual values.\n",
    "\n",
    "<br> An ARIMA model can be understood by outlining each of its components as follows:<br>\n",
    "\n",
    "-  __Autoregression (AR)__: refers to a model that shows a changing variable that regresses on its own lagged, or prior, values.<br>\n",
    "-  __Integrated (I):__ represents the differencing of raw observations to allow the time series to become stationary (i.e., data values are replaced by the difference between the data values and the previous values).<br>\n",
    "-  __Moving average (MA):__  incorporates the dependency between an observation and a residual error from a moving average model applied to lagged observations.\n"
   ]
  },
  {
   "cell_type": "markdown",
   "id": "9e9d0465",
   "metadata": {},
   "source": [
    "__ARIMA Parameters__<br>\n",
    "Each component in ARIMA functions as a parameter with a standard notation. For ARIMA models, a standard notation would be ARIMA with p, d, and q, where integer values substitute for the parameters to indicate the type of ARIMA model used. The parameters can be defined as:\n",
    "1<br>\n",
    "\n",
    "-  __p:__ the number of lag observations in the model, also known as the lag order.<br>\n",
    "-  __d:__ the number of times the raw observations are differenced; also known as the degree of differencing.<br>\n",
    "-  __q:__ the size of the moving average window, also known as the order of the moving average."
   ]
  },
  {
   "cell_type": "markdown",
   "id": "2ac0956a",
   "metadata": {},
   "source": [
    "#### Autocorrelation Function and Partial Autocorrelation Function\n",
    "__Autocorrelation Function (ACF):__<br>\n",
    "Correlation between time series with a lagged version of itself. The correlation between the observation at the current time spot and the observations at previous time spots.The autocorrelation function starts a lag 0, which is the correlation of the time series with itself and therefore results in a correlation of 1.\n",
    "\n",
    "__Partial Autocorrelation Function (PACF):__<br>\n",
    "Additional correlation explained by each successive lagged term. The correlation between pbservations at two time spots given that we consider both observations are correlated to observations at other time spots.\n",
    "\n",
    "<br> The partial autocorrelation at lag k is the autocorrelation between \n",
    "X(t) and X(t−k) that is not accounted for by lags 1 through k−1."
   ]
  },
  {
   "cell_type": "code",
   "execution_count": 1,
   "id": "fc2d44d3",
   "metadata": {},
   "outputs": [
    {
     "ename": "ModuleNotFoundError",
     "evalue": "No module named 'statsmodels'",
     "output_type": "error",
     "traceback": [
      "\u001b[0;31m---------------------------------------------------------------------------\u001b[0m",
      "\u001b[0;31mModuleNotFoundError\u001b[0m                       Traceback (most recent call last)",
      "Cell \u001b[0;32mIn[1], line 2\u001b[0m\n\u001b[1;32m      1\u001b[0m \u001b[38;5;66;03m#To identify the value of lag(p)\u001b[39;00m\n\u001b[0;32m----> 2\u001b[0m \u001b[38;5;28;01mfrom\u001b[39;00m \u001b[38;5;21;01mstatsmodels\u001b[39;00m\u001b[38;5;21;01m.\u001b[39;00m\u001b[38;5;21;01mgraphics\u001b[39;00m\u001b[38;5;21;01m.\u001b[39;00m\u001b[38;5;21;01mtsaplots\u001b[39;00m \u001b[38;5;28;01mimport\u001b[39;00m plot_acf , plot_pacf\n\u001b[1;32m      4\u001b[0m acf_plot \u001b[38;5;241m=\u001b[39m plot_acf(final_dataset\u001b[38;5;241m.\u001b[39mTRX, lags \u001b[38;5;241m=\u001b[39m\u001b[38;5;241m20\u001b[39m)\n\u001b[1;32m      5\u001b[0m pacf_plot \u001b[38;5;241m=\u001b[39m plot_pacf(final_dataset\u001b[38;5;241m.\u001b[39mTRX , lags \u001b[38;5;241m=\u001b[39m\u001b[38;5;241m10\u001b[39m)\n",
      "\u001b[0;31mModuleNotFoundError\u001b[0m: No module named 'statsmodels'"
     ]
    }
   ],
   "source": [
    "#To identify the value of lag(p)\n",
    "from statsmodels.graphics.tsaplots import plot_acf , plot_pacf\n",
    "\n",
    "acf_plot = plot_acf(final_dataset.TRX, lags =20)\n",
    "pacf_plot = plot_pacf(final_dataset.TRX , lags =10)"
   ]
  },
  {
   "cell_type": "code",
   "execution_count": 24,
   "id": "114f1f04",
   "metadata": {},
   "outputs": [
    {
     "name": "stderr",
     "output_type": "stream",
     "text": [
      "/tmp/pip_packages/statsmodels/tsa/base/tsa_model.py:473: ValueWarning: An unsupported index was provided and will be ignored when e.g. forecasting.\n",
      "  self._init_dates(dates, freq)\n",
      "/tmp/pip_packages/statsmodels/tsa/base/tsa_model.py:473: ValueWarning: An unsupported index was provided and will be ignored when e.g. forecasting.\n",
      "  self._init_dates(dates, freq)\n",
      "/tmp/pip_packages/statsmodels/tsa/base/tsa_model.py:473: ValueWarning: An unsupported index was provided and will be ignored when e.g. forecasting.\n",
      "  self._init_dates(dates, freq)\n"
     ]
    },
    {
     "data": {
      "text/html": [
       "<table class=\"simpletable\">\n",
       "<caption>SARIMAX Results</caption>\n",
       "<tr>\n",
       "  <th>Dep. Variable:</th>          <td>TRX</td>       <th>  No. Observations:  </th>    <td>12</td>   \n",
       "</tr>\n",
       "<tr>\n",
       "  <th>Model:</th>                 <td>ARIMA</td>      <th>  Log Likelihood     </th> <td>-100.627</td>\n",
       "</tr>\n",
       "<tr>\n",
       "  <th>Date:</th>            <td>Thu, 25 Jul 2024</td> <th>  AIC                </th>  <td>205.255</td>\n",
       "</tr>\n",
       "<tr>\n",
       "  <th>Time:</th>                <td>17:10:57</td>     <th>  BIC                </th>  <td>206.225</td>\n",
       "</tr>\n",
       "<tr>\n",
       "  <th>Sample:</th>                  <td>0</td>        <th>  HQIC               </th>  <td>204.896</td>\n",
       "</tr>\n",
       "<tr>\n",
       "  <th></th>                       <td> - 12</td>      <th>                     </th>     <td> </td>   \n",
       "</tr>\n",
       "<tr>\n",
       "  <th>Covariance Type:</th>        <td>opg</td>       <th>                     </th>     <td> </td>   \n",
       "</tr>\n",
       "</table>\n",
       "<table class=\"simpletable\">\n",
       "<tr>\n",
       "     <td></td>       <th>coef</th>     <th>std err</th>      <th>z</th>      <th>P>|z|</th>  <th>[0.025</th>    <th>0.975]</th>  \n",
       "</tr>\n",
       "<tr>\n",
       "  <th>const</th>  <td> 1.086e+04</td> <td>  333.599</td> <td>   32.543</td> <td> 0.000</td> <td> 1.02e+04</td> <td> 1.15e+04</td>\n",
       "</tr>\n",
       "<tr>\n",
       "  <th>sigma2</th> <td> 1.115e+06</td> <td> 5.53e+05</td> <td>    2.017</td> <td> 0.044</td> <td> 3.17e+04</td> <td>  2.2e+06</td>\n",
       "</tr>\n",
       "</table>\n",
       "<table class=\"simpletable\">\n",
       "<tr>\n",
       "  <th>Ljung-Box (L1) (Q):</th>     <td>0.37</td> <th>  Jarque-Bera (JB):  </th> <td>0.63</td> \n",
       "</tr>\n",
       "<tr>\n",
       "  <th>Prob(Q):</th>                <td>0.54</td> <th>  Prob(JB):          </th> <td>0.73</td> \n",
       "</tr>\n",
       "<tr>\n",
       "  <th>Heteroskedasticity (H):</th> <td>4.51</td> <th>  Skew:              </th> <td>-0.53</td>\n",
       "</tr>\n",
       "<tr>\n",
       "  <th>Prob(H) (two-sided):</th>    <td>0.17</td> <th>  Kurtosis:          </th> <td>2.61</td> \n",
       "</tr>\n",
       "</table><br/><br/>Warnings:<br/>[1] Covariance matrix calculated using the outer product of gradients (complex-step)."
      ],
      "text/latex": [
       "\\begin{center}\n",
       "\\begin{tabular}{lclc}\n",
       "\\toprule\n",
       "\\textbf{Dep. Variable:}          &       TRX        & \\textbf{  No. Observations:  } &     12      \\\\\n",
       "\\textbf{Model:}                  &      ARIMA       & \\textbf{  Log Likelihood     } &  -100.627   \\\\\n",
       "\\textbf{Date:}                   & Thu, 25 Jul 2024 & \\textbf{  AIC                } &  205.255    \\\\\n",
       "\\textbf{Time:}                   &     17:10:57     & \\textbf{  BIC                } &  206.225    \\\\\n",
       "\\textbf{Sample:}                 &        0         & \\textbf{  HQIC               } &  204.896    \\\\\n",
       "\\textbf{}                        &       - 12       & \\textbf{                     } &             \\\\\n",
       "\\textbf{Covariance Type:}        &       opg        & \\textbf{                     } &             \\\\\n",
       "\\bottomrule\n",
       "\\end{tabular}\n",
       "\\begin{tabular}{lcccccc}\n",
       "                & \\textbf{coef} & \\textbf{std err} & \\textbf{z} & \\textbf{P$> |$z$|$} & \\textbf{[0.025} & \\textbf{0.975]}  \\\\\n",
       "\\midrule\n",
       "\\textbf{const}  &    1.086e+04  &      333.599     &    32.543  &         0.000        &     1.02e+04    &     1.15e+04     \\\\\n",
       "\\textbf{sigma2} &    1.115e+06  &     5.53e+05     &     2.017  &         0.044        &     3.17e+04    &      2.2e+06     \\\\\n",
       "\\bottomrule\n",
       "\\end{tabular}\n",
       "\\begin{tabular}{lclc}\n",
       "\\textbf{Ljung-Box (L1) (Q):}     & 0.37 & \\textbf{  Jarque-Bera (JB):  } &  0.63  \\\\\n",
       "\\textbf{Prob(Q):}                & 0.54 & \\textbf{  Prob(JB):          } &  0.73  \\\\\n",
       "\\textbf{Heteroskedasticity (H):} & 4.51 & \\textbf{  Skew:              } & -0.53  \\\\\n",
       "\\textbf{Prob(H) (two-sided):}    & 0.17 & \\textbf{  Kurtosis:          } &  2.61  \\\\\n",
       "\\bottomrule\n",
       "\\end{tabular}\n",
       "%\\caption{SARIMAX Results}\n",
       "\\end{center}\n",
       "\n",
       "Warnings: \\newline\n",
       " [1] Covariance matrix calculated using the outer product of gradients (complex-step)."
      ],
      "text/plain": [
       "<class 'statsmodels.iolib.summary.Summary'>\n",
       "\"\"\"\n",
       "                               SARIMAX Results                                \n",
       "==============================================================================\n",
       "Dep. Variable:                    TRX   No. Observations:                   12\n",
       "Model:                          ARIMA   Log Likelihood                -100.627\n",
       "Date:                Thu, 25 Jul 2024   AIC                            205.255\n",
       "Time:                        17:10:57   BIC                            206.225\n",
       "Sample:                             0   HQIC                           204.896\n",
       "                                 - 12                                         \n",
       "Covariance Type:                  opg                                         \n",
       "==============================================================================\n",
       "                 coef    std err          z      P>|z|      [0.025      0.975]\n",
       "------------------------------------------------------------------------------\n",
       "const       1.086e+04    333.599     32.543      0.000    1.02e+04    1.15e+04\n",
       "sigma2      1.115e+06   5.53e+05      2.017      0.044    3.17e+04     2.2e+06\n",
       "===================================================================================\n",
       "Ljung-Box (L1) (Q):                   0.37   Jarque-Bera (JB):                 0.63\n",
       "Prob(Q):                              0.54   Prob(JB):                         0.73\n",
       "Heteroskedasticity (H):               4.51   Skew:                            -0.53\n",
       "Prob(H) (two-sided):                  0.17   Kurtosis:                         2.61\n",
       "===================================================================================\n",
       "\n",
       "Warnings:\n",
       "[1] Covariance matrix calculated using the outer product of gradients (complex-step).\n",
       "\"\"\""
      ]
     },
     "execution_count": 24,
     "metadata": {},
     "output_type": "execute_result"
    }
   ],
   "source": [
    "from statsmodels.tsa.arima.model import ARIMA\n",
    "arima_model_1 = ARIMA(final_dataset['TRX'][0:12], order=(0,0,0)) #first 0 AR-autoregression (p), Last 0 Moving Avg (q), Middle (d) 0 - Integration 1,1,1 Integratiive auto regression moving average\n",
    "ar_model_1 = arima_model_1.fit()\n",
    "ar_model_1.summary()"
   ]
  },
  {
   "cell_type": "code",
   "execution_count": 25,
   "id": "23ffbb9b",
   "metadata": {},
   "outputs": [
    {
     "name": "stdout",
     "output_type": "stream",
     "text": [
      "Mape error in Auto Regressive model with lag = 0  is 7.4 %.\n"
     ]
    },
    {
     "name": "stderr",
     "output_type": "stream",
     "text": [
      "/tmp/pip_packages/statsmodels/tsa/base/tsa_model.py:836: ValueWarning: No supported index is available. Prediction results will be given with an integer index beginning at `start`.\n",
      "  return get_prediction_index(\n",
      "/tmp/pip_packages/statsmodels/tsa/base/tsa_model.py:836: FutureWarning: No supported index is available. In the next version, calling this method in a model without a supported index will result in an exception.\n",
      "  return get_prediction_index(\n"
     ]
    }
   ],
   "source": [
    "forecast_ar_1 = ar_model_1.predict(12,18)\n",
    "mape_ar_1 = get_mape(final_dataset['TRX'][12:19], forecast_ar_1)\n",
    "print('Mape error in Auto Regressive model with lag = 0  is', mape_ar_1 , '%.')"
   ]
  },
  {
   "cell_type": "code",
   "execution_count": 26,
   "id": "8c5f9426",
   "metadata": {},
   "outputs": [
    {
     "name": "stdout",
     "output_type": "stream",
     "text": [
      "Mape error in Auto Regressive model with lag = 1  is 7.73 %.\n"
     ]
    },
    {
     "name": "stderr",
     "output_type": "stream",
     "text": [
      "/tmp/pip_packages/statsmodels/tsa/base/tsa_model.py:473: ValueWarning: An unsupported index was provided and will be ignored when e.g. forecasting.\n",
      "  self._init_dates(dates, freq)\n",
      "/tmp/pip_packages/statsmodels/tsa/base/tsa_model.py:473: ValueWarning: An unsupported index was provided and will be ignored when e.g. forecasting.\n",
      "  self._init_dates(dates, freq)\n",
      "/tmp/pip_packages/statsmodels/tsa/base/tsa_model.py:473: ValueWarning: An unsupported index was provided and will be ignored when e.g. forecasting.\n",
      "  self._init_dates(dates, freq)\n",
      "/tmp/pip_packages/statsmodels/tsa/base/tsa_model.py:836: ValueWarning: No supported index is available. Prediction results will be given with an integer index beginning at `start`.\n",
      "  return get_prediction_index(\n",
      "/tmp/pip_packages/statsmodels/tsa/base/tsa_model.py:836: FutureWarning: No supported index is available. In the next version, calling this method in a model without a supported index will result in an exception.\n",
      "  return get_prediction_index(\n"
     ]
    }
   ],
   "source": [
    "arima_model_2 = ARIMA(final_dataset['TRX'][0:12], order=(1,0,0))\n",
    "ar_model_2 = arima_model_2.fit()\n",
    "forecast_ar_2 = ar_model_2.predict(12,18)\n",
    "mape_ar_2 = get_mape(final_dataset['TRX'][12:19], forecast_ar_2)\n",
    "print('Mape error in Auto Regressive model with lag = 1  is', mape_ar_2 , '%.')"
   ]
  },
  {
   "cell_type": "code",
   "execution_count": 27,
   "id": "af284df9",
   "metadata": {},
   "outputs": [
    {
     "name": "stdout",
     "output_type": "stream",
     "text": [
      "Mape error in Auto Regressive Moving Average model with lag = 1  is 7.63 %.\n"
     ]
    },
    {
     "name": "stderr",
     "output_type": "stream",
     "text": [
      "/tmp/pip_packages/statsmodels/tsa/base/tsa_model.py:473: ValueWarning: An unsupported index was provided and will be ignored when e.g. forecasting.\n",
      "  self._init_dates(dates, freq)\n",
      "/tmp/pip_packages/statsmodels/tsa/base/tsa_model.py:473: ValueWarning: An unsupported index was provided and will be ignored when e.g. forecasting.\n",
      "  self._init_dates(dates, freq)\n",
      "/tmp/pip_packages/statsmodels/tsa/base/tsa_model.py:473: ValueWarning: An unsupported index was provided and will be ignored when e.g. forecasting.\n",
      "  self._init_dates(dates, freq)\n",
      "/tmp/pip_packages/statsmodels/tsa/base/tsa_model.py:836: ValueWarning: No supported index is available. Prediction results will be given with an integer index beginning at `start`.\n",
      "  return get_prediction_index(\n",
      "/tmp/pip_packages/statsmodels/tsa/base/tsa_model.py:836: FutureWarning: No supported index is available. In the next version, calling this method in a model without a supported index will result in an exception.\n",
      "  return get_prediction_index(\n"
     ]
    }
   ],
   "source": [
    "#ARMA where (p,d,q) where q = 1 , p=0\n",
    "arima_3 = ARIMA(final_dataset['TRX'][0:12], order=(0,0,1))\n",
    "ar_model_3 = arima_3.fit()\n",
    "forecast_arma_3 = ar_model_3.predict(12,18)\n",
    "mape_arma_3 = get_mape(final_dataset['TRX'][12:19], forecast_arma_3)\n",
    "print('Mape error in Auto Regressive Moving Average model with lag = 1  is', mape_arma_3 , '%.')"
   ]
  },
  {
   "cell_type": "code",
   "execution_count": 28,
   "id": "0fd0fe7d",
   "metadata": {},
   "outputs": [
    {
     "name": "stdout",
     "output_type": "stream",
     "text": [
      "Mape error in Auto Regressive Moving Average model with lag = 1  is 7.63 %.\n"
     ]
    },
    {
     "name": "stderr",
     "output_type": "stream",
     "text": [
      "/tmp/pip_packages/statsmodels/tsa/base/tsa_model.py:473: ValueWarning: An unsupported index was provided and will be ignored when e.g. forecasting.\n",
      "  self._init_dates(dates, freq)\n",
      "/tmp/pip_packages/statsmodels/tsa/base/tsa_model.py:473: ValueWarning: An unsupported index was provided and will be ignored when e.g. forecasting.\n",
      "  self._init_dates(dates, freq)\n",
      "/tmp/pip_packages/statsmodels/tsa/base/tsa_model.py:473: ValueWarning: An unsupported index was provided and will be ignored when e.g. forecasting.\n",
      "  self._init_dates(dates, freq)\n",
      "/tmp/pip_packages/statsmodels/tsa/base/tsa_model.py:836: ValueWarning: No supported index is available. Prediction results will be given with an integer index beginning at `start`.\n",
      "  return get_prediction_index(\n",
      "/tmp/pip_packages/statsmodels/tsa/base/tsa_model.py:836: FutureWarning: No supported index is available. In the next version, calling this method in a model without a supported index will result in an exception.\n",
      "  return get_prediction_index(\n"
     ]
    }
   ],
   "source": [
    "#ARMA where (p,d,q) where q = 1 , p=0\n",
    "arima_3 = ARIMA(final_dataset['TRX'][0:12], order=(0,0,1))\n",
    "ar_model_3 = arima_3.fit()\n",
    "forecast_arma_3 = ar_model_3.predict(12,18)\n",
    "mape_arma_3 = get_mape(final_dataset['TRX'][12:19], forecast_arma_3)\n",
    "print('Mape error in Auto Regressive Moving Average model with lag = 1  is', mape_arma_3 , '%.')"
   ]
  },
  {
   "cell_type": "code",
   "execution_count": 29,
   "id": "a7b02cea",
   "metadata": {},
   "outputs": [
    {
     "name": "stdout",
     "output_type": "stream",
     "text": [
      "Mape error in Auto Regressive Moving Average model with lag = 1  is 7.22 %.\n"
     ]
    },
    {
     "name": "stderr",
     "output_type": "stream",
     "text": [
      "/tmp/pip_packages/statsmodels/tsa/base/tsa_model.py:473: ValueWarning: An unsupported index was provided and will be ignored when e.g. forecasting.\n",
      "  self._init_dates(dates, freq)\n",
      "/tmp/pip_packages/statsmodels/tsa/base/tsa_model.py:473: ValueWarning: An unsupported index was provided and will be ignored when e.g. forecasting.\n",
      "  self._init_dates(dates, freq)\n",
      "/tmp/pip_packages/statsmodels/tsa/base/tsa_model.py:473: ValueWarning: An unsupported index was provided and will be ignored when e.g. forecasting.\n",
      "  self._init_dates(dates, freq)\n",
      "/tmp/pip_packages/statsmodels/tsa/base/tsa_model.py:836: ValueWarning: No supported index is available. Prediction results will be given with an integer index beginning at `start`.\n",
      "  return get_prediction_index(\n",
      "/tmp/pip_packages/statsmodels/tsa/base/tsa_model.py:836: FutureWarning: No supported index is available. In the next version, calling this method in a model without a supported index will result in an exception.\n",
      "  return get_prediction_index(\n"
     ]
    }
   ],
   "source": [
    "#ARMA where (p,d,q) where q = 1 , p=1\n",
    "arima_4 = ARIMA(final_dataset['TRX'][0:12], order=(1,0,1))\n",
    "ar_model_4 = arima_4.fit()\n",
    "forecast_arma_4 = ar_model_4.predict(12,18)\n",
    "mape_arma_4 = get_mape(final_dataset['TRX'][12:19], forecast_arma_4)\n",
    "print('Mape error in Auto Regressive Moving Average model with lag = 1  is', mape_arma_4 , '%.')"
   ]
  },
  {
   "cell_type": "code",
   "execution_count": 30,
   "id": "8a246cbe",
   "metadata": {},
   "outputs": [
    {
     "name": "stdout",
     "output_type": "stream",
     "text": [
      "Mape error in Auto Regressive Integarted Moving Average model with lag = 0  is 7.96 %.\n"
     ]
    },
    {
     "name": "stderr",
     "output_type": "stream",
     "text": [
      "/tmp/pip_packages/statsmodels/tsa/base/tsa_model.py:473: ValueWarning: An unsupported index was provided and will be ignored when e.g. forecasting.\n",
      "  self._init_dates(dates, freq)\n",
      "/tmp/pip_packages/statsmodels/tsa/base/tsa_model.py:473: ValueWarning: An unsupported index was provided and will be ignored when e.g. forecasting.\n",
      "  self._init_dates(dates, freq)\n",
      "/tmp/pip_packages/statsmodels/tsa/base/tsa_model.py:473: ValueWarning: An unsupported index was provided and will be ignored when e.g. forecasting.\n",
      "  self._init_dates(dates, freq)\n",
      "/tmp/pip_packages/statsmodels/tsa/base/tsa_model.py:836: ValueWarning: No supported index is available. Prediction results will be given with an integer index beginning at `start`.\n",
      "  return get_prediction_index(\n",
      "/tmp/pip_packages/statsmodels/tsa/base/tsa_model.py:836: FutureWarning: No supported index is available. In the next version, calling this method in a model without a supported index will result in an exception.\n",
      "  return get_prediction_index(\n"
     ]
    }
   ],
   "source": [
    "#ARIMA where (p,d,q) where q = 0 , p=0 , d=1\n",
    "arima_5 = ARIMA(final_dataset['TRX'][0:12], order=(0,1,0))\n",
    "ar_model_5 = arima_5.fit()\n",
    "forecast_arima = ar_model_5.predict(12,18)\n",
    "mape_arma_5 = get_mape(final_dataset['TRX'][12:19], forecast_arima)\n",
    "print('Mape error in Auto Regressive Integarted Moving Average model with lag = 0  is', mape_arma_5, '%.')"
   ]
  },
  {
   "cell_type": "code",
   "execution_count": 31,
   "id": "118aa14a",
   "metadata": {},
   "outputs": [
    {
     "name": "stderr",
     "output_type": "stream",
     "text": [
      "/tmp/pip_packages/statsmodels/tsa/base/tsa_model.py:473: ValueWarning: An unsupported index was provided and will be ignored when e.g. forecasting.\n",
      "  self._init_dates(dates, freq)\n",
      "/tmp/pip_packages/statsmodels/tsa/base/tsa_model.py:473: ValueWarning: An unsupported index was provided and will be ignored when e.g. forecasting.\n",
      "  self._init_dates(dates, freq)\n",
      "/tmp/pip_packages/statsmodels/tsa/base/tsa_model.py:473: ValueWarning: An unsupported index was provided and will be ignored when e.g. forecasting.\n",
      "  self._init_dates(dates, freq)\n",
      "/tmp/pip_packages/statsmodels/tsa/base/tsa_model.py:836: ValueWarning: No supported index is available. Prediction results will be given with an integer index beginning at `start`.\n",
      "  return get_prediction_index(\n",
      "/tmp/pip_packages/statsmodels/tsa/base/tsa_model.py:836: FutureWarning: No supported index is available. In the next version, calling this method in a model without a supported index will result in an exception.\n",
      "  return get_prediction_index(\n"
     ]
    },
    {
     "data": {
      "text/plain": [
       "24   10368.80\n",
       "25   11692.39\n",
       "26   10897.58\n",
       "27   11374.86\n",
       "28   11088.26\n",
       "29   11260.36\n",
       "30   11157.01\n",
       "31   11219.07\n",
       "32   11181.81\n",
       "33   11204.19\n",
       "34   11190.75\n",
       "35   11198.82\n",
       "36   11193.97\n",
       "Name: predicted_mean, dtype: float64"
      ]
     },
     "execution_count": 31,
     "metadata": {},
     "output_type": "execute_result"
    }
   ],
   "source": [
    "#Predict for future values using ARMA\n",
    "from statsmodels.tsa.arima.model import ARIMA\n",
    "arima_final = ARIMA(final_dataset['TRX'][0:24], order=(1,0,1))\n",
    "ar_model_final = arima_final.fit()\n",
    "forecast_arma_final = ar_model_final.predict(24,36)\n",
    "forecast_arma_final"
   ]
  },
  {
   "cell_type": "code",
   "execution_count": 32,
   "id": "72b25d9a",
   "metadata": {},
   "outputs": [
    {
     "name": "stdout",
     "output_type": "stream",
     "text": [
      "7.736071428571429\n"
     ]
    }
   ],
   "source": [
    "import warnings\n",
    "warnings.filterwarnings(\"ignore\")\n",
    "brand_unique_values = grouped_data['BRAND'].unique()\n",
    "region_unique_values = grouped_data['REGION'].unique()\n",
    "mape_list = []\n",
    "forcasted_values = []\n",
    "for brand_i in brand_unique_values:\n",
    "    for region_i in region_unique_values:\n",
    "        data = grouped_data[(grouped_data['BRAND']  == brand_i ) & (grouped_data['REGION'] == region_i)]\n",
    "        brand_wise_data = data[['TRX']].reset_index(drop = True)\n",
    "        arima_4 = ARIMA(brand_wise_data['TRX'][0:12], order=(1,0,0))\n",
    "        ar_model_4 = arima_4.fit()\n",
    "        forecast_arma = ar_model_4.predict(12,18)\n",
    "        mape_error = get_mape(brand_wise_data['TRX'][12:19], forecast_arma)\n",
    "        forcasted_values.append([forecast_arma.values, brand_i , region_i])\n",
    "        mape_list.append([mape_error,brand_i,region_i])\n",
    "total_mape = 0\n",
    "for i in range(len(mape_list)):\n",
    "    total_mape+=mape_list[i][0]\n",
    "average_mape = total_mape/len(mape_list)\n",
    "print(average_mape)"
   ]
  },
  {
   "cell_type": "code",
   "execution_count": 33,
   "id": "5275f1aa",
   "metadata": {},
   "outputs": [],
   "source": [
    "import warnings\n",
    "from statsmodels.tsa.seasonal import seasonal_decompose\n",
    "warnings.filterwarnings(\"ignore\")\n",
    "brand_unique_values = grouped_data['BRAND'].unique()\n",
    "region_unique_values = grouped_data['REGION'].unique()\n",
    "forcasted_values = []\n",
    "for brand_i in brand_unique_values:\n",
    "    for region_i in region_unique_values:\n",
    "        data = grouped_data[(grouped_data['BRAND']  == brand_i ) & (grouped_data['REGION'] == region_i)]\n",
    "        brand_wise_data = data[['TRX']].reset_index(drop = True)\n",
    "        arima_4 = ARIMA(brand_wise_data['TRX'][0:], order=(1,0,0))\n",
    "        ar_model_4 = arima_4.fit()\n",
    "        forecast_arma = ar_model_4.predict(24,48)\n",
    "        ts_decompose_multiplicative = seasonal_decompose(forecast_arma.values, model = 'multiplicative', period=12, extrapolate_trend = 'freq')\n",
    "        ts_decompose_additive = seasonal_decompose(forecast_arma.values, model = 'additive', period=12, extrapolate_trend = 'freq')\n",
    "        forcasted_values.append([forecast_arma.values, brand_i , region_i,ts_decompose_multiplicative.seasonal, ts_decompose_multiplicative.trend, ts_decompose_multiplicative.resid])"
   ]
  },
  {
   "cell_type": "code",
   "execution_count": 34,
   "id": "1fafff78",
   "metadata": {},
   "outputs": [
    {
     "data": {
      "text/plain": [
       "array([5337.74327396, 5541.20535382, 5476.14228062, 5496.94814035,\n",
       "       5490.29484566, 5492.42243523, 5491.74207496, 5491.95964047,\n",
       "       5491.8900674 , 5491.91231547, 5491.90520098, 5491.90747605,\n",
       "       5491.90674853, 5491.90698118, 5491.90690678, 5491.90693057,\n",
       "       5491.90692297, 5491.9069254 , 5491.90692462, 5491.90692487,\n",
       "       5491.90692479, 5491.90692481, 5491.90692481, 5491.90692481,\n",
       "       5491.90692481])"
      ]
     },
     "execution_count": 34,
     "metadata": {},
     "output_type": "execute_result"
    }
   ],
   "source": [
    "forcasted_values[0][0]"
   ]
  },
  {
   "cell_type": "code",
   "execution_count": 35,
   "id": "31bc1841",
   "metadata": {},
   "outputs": [],
   "source": [
    "forecasted_data = pd.DataFrame(columns=['BRAND','REGION','MONTH','FORECASTED_TRx','SEASONAL_TREND','MULTIPLICATIVETREND','RESIDUAL'])\n",
    " \n",
    " \n",
    "for j in range(len(forcasted_values)):\n",
    "    for i in range(len(forcasted_values[j][0])):\n",
    "        forecasted_data.loc[len(forecasted_data.index)] = [forcasted_values[j][1], forcasted_values[j][2], 24+i ,forcasted_values[j][0][i],forcasted_values[j][3][i],forcasted_values[j][4][i],forcasted_values[j][5][i]]"
   ]
  },
  {
   "cell_type": "code",
   "execution_count": 36,
   "id": "6e0a1188",
   "metadata": {},
   "outputs": [
    {
     "name": "stdout",
     "output_type": "stream",
     "text": [
      "        BRAND        REGION  MONTH  FORECASTED_TRx  SEASONAL_TREND   \n",
      "0     BETAVAX  Mid-Atlantic     24         5337.74            0.99  \\\n",
      "1     BETAVAX  Mid-Atlantic     25         5541.21            1.01   \n",
      "2     BETAVAX  Mid-Atlantic     26         5476.14            1.00   \n",
      "3     BETAVAX  Mid-Atlantic     27         5496.95            1.00   \n",
      "4     BETAVAX  Mid-Atlantic     28         5490.29            1.00   \n",
      "..        ...           ...    ...             ...             ...   \n",
      "695  ZETAPHIN          West     44        17753.42            1.00   \n",
      "696  ZETAPHIN          West     45        17753.42            1.00   \n",
      "697  ZETAPHIN          West     46        17753.42            1.00   \n",
      "698  ZETAPHIN          West     47        17753.42            1.00   \n",
      "699  ZETAPHIN          West     48        17753.42            1.01   \n",
      "\n",
      "     MULTIPLICATIVETREND  RESIDUAL       DATE  \n",
      "0                5490.54      0.98 2024-08-01  \n",
      "1                5490.64      1.00 2024-09-01  \n",
      "2                5490.74      1.00 2024-10-01  \n",
      "3                5490.84      1.00 2024-11-01  \n",
      "4                5490.94      1.00 2024-12-01  \n",
      "..                   ...       ...        ...  \n",
      "695             17745.24      1.00 2026-04-01  \n",
      "696             17743.91      1.00 2026-05-01  \n",
      "697             17742.59      1.00 2026-06-01  \n",
      "698             17741.26      1.00 2026-07-01  \n",
      "699             17739.94      0.99 2026-08-01  \n",
      "\n",
      "[700 rows x 8 columns]\n"
     ]
    }
   ],
   "source": [
    "from datetime import datetime\n",
    "from dateutil.relativedelta import relativedelta\n",
    "start_date = datetime(2024, 8 ,1)\n",
    "forecasted_data.loc[:,'DATE'] = forecasted_data.loc[:,'MONTH'].apply(lambda x: start_date + relativedelta(months = x-24))\n",
    "print(forecasted_data)"
   ]
  },
  {
   "cell_type": "code",
   "execution_count": 48,
   "id": "9971428c",
   "metadata": {},
   "outputs": [
    {
     "name": "stdout",
     "output_type": "stream",
     "text": [
      "Existing connection object fetched: <snowflake.connector.connection.SnowflakeConnection object at 0x7f2f9661fe20>\n",
      "Please close the connection after use!\n"
     ]
    }
   ],
   "source": [
    "con = snowflake.get_connection()"
   ]
  },
  {
   "cell_type": "code",
   "execution_count": 49,
   "id": "6faf34bf",
   "metadata": {},
   "outputs": [],
   "source": [
    "file = 'Pharmaceutical_brand_predictive_data.csv'\n",
    "forecasted_data.to_csv(file , index=False)"
   ]
  },
  {
   "cell_type": "code",
   "execution_count": 50,
   "id": "c9f278a1",
   "metadata": {},
   "outputs": [
    {
     "data": {
      "text/plain": [
       "'Pharmaceutical_brand_predictive_data.csv'"
      ]
     },
     "execution_count": 50,
     "metadata": {},
     "output_type": "execute_result"
    }
   ],
   "source": [
    "file"
   ]
  },
  {
   "cell_type": "code",
   "execution_count": 51,
   "id": "c24f2937",
   "metadata": {},
   "outputs": [
    {
     "name": "stdout",
     "output_type": "stream",
     "text": [
      "Exception occurred in execute_query: Unknown error\n"
     ]
    }
   ],
   "source": [
    "snowflake.execute_query(f\"PUT file://{file} @PHARMACEUTICAL.PUBLIC.PHARMACEUTICAL_STAGE\")"
   ]
  },
  {
   "cell_type": "code",
   "execution_count": null,
   "id": "20a7a90c",
   "metadata": {},
   "outputs": [],
   "source": []
  }
 ],
 "metadata": {
  "kernelspec": {
   "display_name": "Python 3",
   "language": "python",
   "name": "python3"
  },
  "language_info": {
   "codemirror_mode": {
    "name": "ipython",
    "version": 3
   },
   "file_extension": ".py",
   "mimetype": "text/x-python",
   "name": "python",
   "nbconvert_exporter": "python",
   "pygments_lexer": "ipython3",
   "version": "3.8.19"
  }
 },
 "nbformat": 4,
 "nbformat_minor": 5
}
